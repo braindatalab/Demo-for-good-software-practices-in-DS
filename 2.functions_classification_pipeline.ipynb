{
 "cells": [
  {
   "cell_type": "code",
   "execution_count": 1,
   "metadata": {},
   "outputs": [],
   "source": [
    "import pandas as pd\n",
    "import numpy as np\n",
    "from sklearn.model_selection import train_test_split\n",
    "from sklearn.compose import make_column_transformer\n",
    "from sklearn.compose import TransformedTargetRegressor\n",
    "from sklearn.pipeline import make_pipeline, Pipeline\n",
    "from sklearn.preprocessing import OneHotEncoder, StandardScaler\n",
    "from sklearn.svm import LinearSVR\n",
    "from typing import Dict\n",
    "from sklearn.metrics import mean_absolute_error\n",
    "from sklearn.metrics import r2_score\n",
    "from sklearn.ensemble import HistGradientBoostingRegressor"
   ]
  },
  {
   "cell_type": "code",
   "execution_count": 2,
   "metadata": {},
   "outputs": [],
   "source": [
    "def load_data():\n",
    "    data_dict: Dict[int, pd.DataFrame] = dict()\n",
    "    for i in range(4):\n",
    "        data_dict[i] = pd.read_pickle(f\"data/dataset_{i}.pandas_pickle\")\n",
    "    return data_dict"
   ]
  },
  {
   "cell_type": "code",
   "execution_count": 3,
   "metadata": {},
   "outputs": [],
   "source": [
    "def get_estimator(regressor_name='linearSVR'):\n",
    "\n",
    "    if regressor_name == 'linearSVR':\n",
    "        regressor = LinearSVR(random_state=42)\n",
    "    elif regressor_name == 'HistGradientBoostingRegressor':\n",
    "        regressor = HistGradientBoostingRegressor(random_state=42)\n",
    "    ct = make_column_transformer((make_pipeline(StandardScaler()), [\"ZIP_CODE\", \"LAND_SQUARE_FEET\", \"GROSS_SQUARE_FEET\", \"YEAR_BUILT\", \"BATHROOM_COUNT\", \"SALE_DATE_ORD\"]),\n",
    "                             (OneHotEncoder(sparse=False, handle_unknown = \"ignore\"), [\"BOROUGH\", \"NEIGHBORHOOD\", \"BUILDING_CLASS_CATEGORY\", \"BUILDING_CLASS_CATEGORY_ORD\", \"BUYER_SEX\"]), \n",
    "                             verbose_feature_names_out=False)\n",
    "\n",
    "    pipeline: Pipeline = make_pipeline(ct, regressor, memory='.cache', verbose=True)\n",
    "    estimator = TransformedTargetRegressor(regressor=pipeline, transformer=StandardScaler())\n",
    "    return estimator"
   ]
  },
  {
   "cell_type": "code",
   "execution_count": 4,
   "metadata": {},
   "outputs": [],
   "source": [
    "def classify(data_dict):\n",
    "    results = []\n",
    "    estimators = dict()\n",
    "    for idx, dataset in data_dict.items():\n",
    "        X_train, X_val, y_train, y_val = train_test_split(dataset.drop(columns=[\"SALE_PRICE\"]), dataset[\"SALE_PRICE\"], random_state=42)\n",
    "        estimators[idx] = dict()\n",
    "        for regressor_name in ['linearSVR', 'HistGradientBoostingRegressor']:\n",
    "            estimator = get_estimator(regressor_name)\n",
    "            estimator.fit(X_train, y_train)\n",
    "\n",
    "            y_pred = estimator.predict(X_val)\n",
    "\n",
    "            estimators[idx][regressor_name] = estimator\n",
    "            \n",
    "            results.append([idx, regressor_name, mean_absolute_error(y_val, y_pred), r2_score(y_val, y_pred)])\n",
    "    return results, estimators"
   ]
  },
  {
   "cell_type": "code",
   "execution_count": 5,
   "metadata": {},
   "outputs": [
    {
     "name": "stderr",
     "output_type": "stream",
     "text": [
      "/home/rustamzh/anaconda3/envs/demo/lib/python3.8/site-packages/sklearn/svm/_base.py:1206: ConvergenceWarning: Liblinear failed to converge, increase the number of iterations.\n",
      "  warnings.warn(\n"
     ]
    },
    {
     "name": "stdout",
     "output_type": "stream",
     "text": [
      "[Pipeline] ......... (step 2 of 2) Processing linearsvr, total=  19.3s\n",
      "[Pipeline]  (step 2 of 2) Processing histgradientboostingregressor, total=   6.5s\n"
     ]
    },
    {
     "name": "stderr",
     "output_type": "stream",
     "text": [
      "/home/rustamzh/anaconda3/envs/demo/lib/python3.8/site-packages/sklearn/svm/_base.py:1206: ConvergenceWarning: Liblinear failed to converge, increase the number of iterations.\n",
      "  warnings.warn(\n"
     ]
    },
    {
     "name": "stdout",
     "output_type": "stream",
     "text": [
      "[Pipeline] ......... (step 2 of 2) Processing linearsvr, total=  18.8s\n",
      "[Pipeline]  (step 2 of 2) Processing histgradientboostingregressor, total=   9.2s\n"
     ]
    },
    {
     "name": "stderr",
     "output_type": "stream",
     "text": [
      "/home/rustamzh/anaconda3/envs/demo/lib/python3.8/site-packages/sklearn/svm/_base.py:1206: ConvergenceWarning: Liblinear failed to converge, increase the number of iterations.\n",
      "  warnings.warn(\n"
     ]
    },
    {
     "name": "stdout",
     "output_type": "stream",
     "text": [
      "[Pipeline] ......... (step 2 of 2) Processing linearsvr, total=  19.3s\n",
      "[Pipeline]  (step 2 of 2) Processing histgradientboostingregressor, total=   8.3s\n"
     ]
    },
    {
     "name": "stderr",
     "output_type": "stream",
     "text": [
      "/home/rustamzh/anaconda3/envs/demo/lib/python3.8/site-packages/sklearn/svm/_base.py:1206: ConvergenceWarning: Liblinear failed to converge, increase the number of iterations.\n",
      "  warnings.warn(\n"
     ]
    },
    {
     "name": "stdout",
     "output_type": "stream",
     "text": [
      "[Pipeline] ......... (step 2 of 2) Processing linearsvr, total=  19.2s\n",
      "[Pipeline]  (step 2 of 2) Processing histgradientboostingregressor, total=   5.0s\n"
     ]
    }
   ],
   "source": [
    "data_dict = load_data()\n",
    "results, estimators = classify(data_dict=data_dict)"
   ]
  },
  {
   "cell_type": "code",
   "execution_count": 6,
   "metadata": {},
   "outputs": [
    {
     "data": {
      "text/html": [
       "<div>\n",
       "<style scoped>\n",
       "    .dataframe tbody tr th:only-of-type {\n",
       "        vertical-align: middle;\n",
       "    }\n",
       "\n",
       "    .dataframe tbody tr th {\n",
       "        vertical-align: top;\n",
       "    }\n",
       "\n",
       "    .dataframe thead th {\n",
       "        text-align: right;\n",
       "    }\n",
       "</style>\n",
       "<table border=\"1\" class=\"dataframe\">\n",
       "  <thead>\n",
       "    <tr style=\"text-align: right;\">\n",
       "      <th></th>\n",
       "      <th>Dataset Idx</th>\n",
       "      <th>Regressor</th>\n",
       "      <th>MAE</th>\n",
       "      <th>R2</th>\n",
       "    </tr>\n",
       "  </thead>\n",
       "  <tbody>\n",
       "    <tr>\n",
       "      <th>0</th>\n",
       "      <td>0</td>\n",
       "      <td>linearSVR</td>\n",
       "      <td>826707.600905</td>\n",
       "      <td>0.204332</td>\n",
       "    </tr>\n",
       "    <tr>\n",
       "      <th>1</th>\n",
       "      <td>0</td>\n",
       "      <td>HistGradientBoostingRegressor</td>\n",
       "      <td>602822.336186</td>\n",
       "      <td>0.644838</td>\n",
       "    </tr>\n",
       "    <tr>\n",
       "      <th>2</th>\n",
       "      <td>1</td>\n",
       "      <td>linearSVR</td>\n",
       "      <td>821178.536598</td>\n",
       "      <td>0.264087</td>\n",
       "    </tr>\n",
       "    <tr>\n",
       "      <th>3</th>\n",
       "      <td>1</td>\n",
       "      <td>HistGradientBoostingRegressor</td>\n",
       "      <td>632824.458058</td>\n",
       "      <td>0.589781</td>\n",
       "    </tr>\n",
       "    <tr>\n",
       "      <th>4</th>\n",
       "      <td>2</td>\n",
       "      <td>linearSVR</td>\n",
       "      <td>809373.648820</td>\n",
       "      <td>0.211983</td>\n",
       "    </tr>\n",
       "    <tr>\n",
       "      <th>5</th>\n",
       "      <td>2</td>\n",
       "      <td>HistGradientBoostingRegressor</td>\n",
       "      <td>574875.248383</td>\n",
       "      <td>0.500433</td>\n",
       "    </tr>\n",
       "    <tr>\n",
       "      <th>6</th>\n",
       "      <td>3</td>\n",
       "      <td>linearSVR</td>\n",
       "      <td>872769.508629</td>\n",
       "      <td>0.340836</td>\n",
       "    </tr>\n",
       "    <tr>\n",
       "      <th>7</th>\n",
       "      <td>3</td>\n",
       "      <td>HistGradientBoostingRegressor</td>\n",
       "      <td>655705.125719</td>\n",
       "      <td>0.364833</td>\n",
       "    </tr>\n",
       "  </tbody>\n",
       "</table>\n",
       "</div>"
      ],
      "text/plain": [
       "   Dataset Idx                      Regressor            MAE        R2\n",
       "0            0                      linearSVR  826707.600905  0.204332\n",
       "1            0  HistGradientBoostingRegressor  602822.336186  0.644838\n",
       "2            1                      linearSVR  821178.536598  0.264087\n",
       "3            1  HistGradientBoostingRegressor  632824.458058  0.589781\n",
       "4            2                      linearSVR  809373.648820  0.211983\n",
       "5            2  HistGradientBoostingRegressor  574875.248383  0.500433\n",
       "6            3                      linearSVR  872769.508629  0.340836\n",
       "7            3  HistGradientBoostingRegressor  655705.125719  0.364833"
      ]
     },
     "execution_count": 6,
     "metadata": {},
     "output_type": "execute_result"
    }
   ],
   "source": [
    "df = pd.DataFrame(results, columns=['Dataset Idx', 'Regressor', 'MAE', 'R2'])\n",
    "df"
   ]
  },
  {
   "cell_type": "code",
   "execution_count": 7,
   "metadata": {},
   "outputs": [
    {
     "name": "stderr",
     "output_type": "stream",
     "text": [
      "test_direction_expectation (__main__.TestDataRegression) ... /home/rustamzh/anaconda3/envs/demo/lib/python3.8/site-packages/sklearn/svm/_base.py:1206: ConvergenceWarning: Liblinear failed to converge, increase the number of iterations.\n",
      "  warnings.warn(\n"
     ]
    },
    {
     "name": "stdout",
     "output_type": "stream",
     "text": [
      "[Pipeline] ......... (step 2 of 2) Processing linearsvr, total=  19.8s\n",
      "[Pipeline]  (step 2 of 2) Processing histgradientboostingregressor, total=   5.6s\n"
     ]
    },
    {
     "name": "stderr",
     "output_type": "stream",
     "text": [
      "FAIL\n",
      "test_results_are_determined (__main__.TestDataRegression) ... /home/rustamzh/anaconda3/envs/demo/lib/python3.8/site-packages/sklearn/svm/_base.py:1206: ConvergenceWarning: Liblinear failed to converge, increase the number of iterations.\n",
      "  warnings.warn(\n"
     ]
    },
    {
     "name": "stdout",
     "output_type": "stream",
     "text": [
      "[Pipeline] ......... (step 2 of 2) Processing linearsvr, total=  19.5s\n",
      "[Pipeline]  (step 2 of 2) Processing histgradientboostingregressor, total=   6.1s\n"
     ]
    },
    {
     "name": "stderr",
     "output_type": "stream",
     "text": [
      "/home/rustamzh/anaconda3/envs/demo/lib/python3.8/site-packages/sklearn/svm/_base.py:1206: ConvergenceWarning: Liblinear failed to converge, increase the number of iterations.\n",
      "  warnings.warn(\n"
     ]
    },
    {
     "name": "stdout",
     "output_type": "stream",
     "text": [
      "[Pipeline] ......... (step 2 of 2) Processing linearsvr, total=  19.3s\n",
      "[Pipeline]  (step 2 of 2) Processing histgradientboostingregressor, total=   5.4s\n"
     ]
    },
    {
     "name": "stderr",
     "output_type": "stream",
     "text": [
      "ok\n",
      "test_sex_invariance (__main__.TestDataRegression) ... /home/rustamzh/anaconda3/envs/demo/lib/python3.8/site-packages/sklearn/svm/_base.py:1206: ConvergenceWarning: Liblinear failed to converge, increase the number of iterations.\n",
      "  warnings.warn(\n"
     ]
    },
    {
     "name": "stdout",
     "output_type": "stream",
     "text": [
      "[Pipeline] ......... (step 2 of 2) Processing linearsvr, total=  21.0s\n",
      "[Pipeline]  (step 2 of 2) Processing histgradientboostingregressor, total=   6.1s\n"
     ]
    },
    {
     "name": "stderr",
     "output_type": "stream",
     "text": [
      "/home/rustamzh/anaconda3/envs/demo/lib/python3.8/site-packages/sklearn/svm/_base.py:1206: ConvergenceWarning: Liblinear failed to converge, increase the number of iterations.\n",
      "  warnings.warn(\n"
     ]
    },
    {
     "name": "stdout",
     "output_type": "stream",
     "text": [
      "[Pipeline] ......... (step 2 of 2) Processing linearsvr, total=  20.3s\n",
      "[Pipeline]  (step 2 of 2) Processing histgradientboostingregressor, total=   5.2s\n"
     ]
    },
    {
     "name": "stderr",
     "output_type": "stream",
     "text": [
      "ok\n",
      "\n",
      "======================================================================\n",
      "FAIL: test_direction_expectation (__main__.TestDataRegression)\n",
      "----------------------------------------------------------------------\n",
      "Traceback (most recent call last):\n",
      "  File \"/tmp/ipykernel_24230/1821046248.py\", line 38, in test_direction_expectation\n",
      "    self.assertTrue(np.array(is_increasing).all())\n",
      "AssertionError: False is not true\n",
      "\n",
      "----------------------------------------------------------------------\n",
      "Ran 3 tests in 140.017s\n",
      "\n",
      "FAILED (failures=1)\n"
     ]
    },
    {
     "data": {
      "text/plain": [
       "<unittest.main.TestProgram at 0x7fb9b6b61bb0>"
      ]
     },
     "execution_count": 7,
     "metadata": {},
     "output_type": "execute_result"
    }
   ],
   "source": [
    "import unittest\n",
    "\n",
    "\n",
    "class TestDataRegression(unittest.TestCase):\n",
    "    def setUp(self):\n",
    "        data_dict = load_data()\n",
    "        self.dataset = data_dict[0]\n",
    "\n",
    "        results, estimators = classify(data_dict={0: self.dataset})\n",
    "        \n",
    "        self.results = results\n",
    "        self.estimators = estimators\n",
    "    \n",
    "    def test_sex_invariance(self,):\n",
    "        dataset = self.dataset.copy()\n",
    "        dataset[\"BUYER_SEX\"] = 'M'\n",
    "        data_dict = {0: dataset}\n",
    "        results, _ = classify(data_dict=data_dict)\n",
    "        setup_results_df = pd.DataFrame(self.results, columns=['Dataset Idx', 'Regressor', 'MAE', 'R2'])\n",
    "        test_results_df = pd.DataFrame(results, columns=['Dataset Idx', 'Regressor', 'MAE', 'R2'])\n",
    "        self.assertTrue(np.allclose(setup_results_df['R2'].values, test_results_df['R2'].values, atol=1e-2))\n",
    "    \n",
    "    def test_direction_expectation(self):\n",
    "\n",
    "        X_test1 = self.dataset.drop(columns=[\"SALE_PRICE\"]).sample(frac=0.2)\n",
    "        X_test2 = X_test1.copy()\n",
    "\n",
    "        X_test2[\"GROSS_SQUARE_FEET\"] = X_test2[\"GROSS_SQUARE_FEET\"] * 2\n",
    "        X_test2[\"BATHROOM_COUNT\"] = X_test2[\"BATHROOM_COUNT\"] + 5\n",
    "\n",
    "        estimator_names =self.estimators[0].keys()\n",
    "        is_increasing = []\n",
    "        for est in estimator_names:\n",
    "            prices1 = self.estimators[0][est].predict(X_test1)\n",
    "            prices2 = self.estimators[0][est].predict(X_test2)\n",
    "            is_increasing.append(((prices2 - prices1) > 0).all())\n",
    "\n",
    "        self.assertTrue(np.array(is_increasing).all())\n",
    "\n",
    "    def test_results_are_determined(self):\n",
    "        results, _ = classify(data_dict={0: self.dataset})\n",
    "        setup_results_df = pd.DataFrame(self.results, columns=['Dataset Idx', 'Regressor', 'MAE', 'R2'])\n",
    "        test_results_df = pd.DataFrame(results, columns=['Dataset Idx', 'Regressor', 'MAE', 'R2'])\n",
    "        self.assertTrue(np.array_equiv(setup_results_df.values, test_results_df.values))\n",
    "    \n",
    "\n",
    "unittest.main(argv=[''], verbosity=2, exit=False)"
   ]
  },
  {
   "cell_type": "code",
   "execution_count": null,
   "metadata": {},
   "outputs": [],
   "source": []
  }
 ],
 "metadata": {
  "kernelspec": {
   "display_name": "Python 3 (ipykernel)",
   "language": "python",
   "name": "python3"
  },
  "language_info": {
   "codemirror_mode": {
    "name": "ipython",
    "version": 3
   },
   "file_extension": ".py",
   "mimetype": "text/x-python",
   "name": "python",
   "nbconvert_exporter": "python",
   "pygments_lexer": "ipython3",
   "version": "3.8.13"
  }
 },
 "nbformat": 4,
 "nbformat_minor": 2
}
