{
 "cells": [
  {
   "cell_type": "code",
   "execution_count": 4,
   "metadata": {
    "slideshow": {
     "slide_type": "skip"
    }
   },
   "outputs": [
    {
     "data": {
      "text/html": [
       "\n",
       "        <script>\n",
       "            function code_toggle_17048437275859323780() {\n",
       "                $('div.cell.code_cell.rendered.selected').find('div.input').toggle();\n",
       "            }\n",
       "\n",
       "            \n",
       "        </script>\n",
       "\n",
       "        <a href=\"javascript:code_toggle_17048437275859323780()\">Toggle show/hide</a>\n",
       "    "
      ],
      "text/plain": [
       "<IPython.core.display.HTML object>"
      ]
     },
     "execution_count": 4,
     "metadata": {},
     "output_type": "execute_result"
    }
   ],
   "source": [
    "from IPython.display import HTML\n",
    "import random\n",
    "\n",
    "def hide_toggle(for_next=False):\n",
    "    this_cell = \"\"\"$('div.cell.code_cell.rendered.selected')\"\"\"\n",
    "    next_cell = this_cell + '.next()'\n",
    "\n",
    "    toggle_text = 'Toggle show/hide'  # text shown on toggle link\n",
    "    target_cell = this_cell  # target cell to control with toggle\n",
    "    js_hide_current = ''  # bit of JS to permanently hide code in current cell (only when toggling next cell)\n",
    "\n",
    "    if for_next:\n",
    "        target_cell = next_cell\n",
    "        toggle_text += ' next cell'\n",
    "        js_hide_current = this_cell + '.find(\"div.input\").hide();'\n",
    "\n",
    "    js_f_name = 'code_toggle_{}'.format(str(random.randint(1,2**64)))\n",
    "\n",
    "    html = \"\"\"\n",
    "        <script>\n",
    "            function {f_name}() {{\n",
    "                {cell_selector}.find('div.input').toggle();\n",
    "            }}\n",
    "\n",
    "            {js_hide_current}\n",
    "        </script>\n",
    "\n",
    "        <a href=\"javascript:{f_name}()\">{toggle_text}</a>\n",
    "    \"\"\".format(\n",
    "        f_name=js_f_name,\n",
    "        cell_selector=target_cell,\n",
    "        js_hide_current=js_hide_current, \n",
    "        toggle_text=toggle_text\n",
    "    )\n",
    "\n",
    "    return HTML(html)\n",
    "\n",
    "hide_toggle()"
   ]
  },
  {
   "cell_type": "code",
   "execution_count": 86,
   "metadata": {
    "slideshow": {
     "slide_type": "skip"
    }
   },
   "outputs": [],
   "source": [
    "width=1200\n",
    "height=700"
   ]
  },
  {
   "cell_type": "markdown",
   "metadata": {
    "@deathbeds/jupyterlab-fonts": {
     "styles": {
      "": {
       "body[data-jp-deck-mode='presenting'] &": {
        "zoom": "322%"
       }
      }
     }
    },
    "slideshow": {
     "slide_type": "slide"
    },
    "tags": []
   },
   "source": [
    "# Good practices in software and ML engineering"
   ]
  },
  {
   "cell_type": "markdown",
   "metadata": {},
   "source": [
    "</br>\n",
    "</br>\n",
    "</br>\n",
    "</br>\n",
    "</br>\n",
    "</br>\n",
    "</br>\n",
    "</br>\n",
    "</br>\n",
    "</br>\n",
    "<em style=\"text-align: right\">All illustrations are found on Google Images </em>\n"
   ]
  },
  {
   "cell_type": "markdown",
   "metadata": {
    "@deathbeds/jupyterlab-fonts": {
     "styles": {
      "": {
       "body[data-jp-deck-mode='presenting'] &": {
        "height": null,
        "left": null,
        "position": null,
        "top": null,
        "width": null
       }
      }
     }
    },
    "slideshow": {
     "slide_type": "slide"
    },
    "tags": []
   },
   "source": [
    "# Outline"
   ]
  },
  {
   "cell_type": "markdown",
   "metadata": {},
   "source": [
    "* Motivation\n",
    "* Observations about S/ML engineering\n",
    "* S/ML lifecycle\n",
    "* Testing in SE/ML\n",
    "* Walkthrough on testing in ML\n",
    "* Discussion (optional)"
   ]
  },
  {
   "cell_type": "markdown",
   "metadata": {},
   "source": [
    "Throughout the presentation I will be juxtaposing software and machine learning engineering"
   ]
  },
  {
   "cell_type": "markdown",
   "metadata": {
    "slideshow": {
     "slide_type": "slide"
    }
   },
   "source": [
    "# Mentimeter"
   ]
  },
  {
   "cell_type": "code",
   "execution_count": 88,
   "metadata": {
    "slideshow": {
     "slide_type": "skip"
    }
   },
   "outputs": [
    {
     "data": {
      "text/html": [
       "\n",
       "        <script>\n",
       "            function code_toggle_12776086787203986755() {\n",
       "                $('div.cell.code_cell.rendered.selected').next().find('div.input').toggle();\n",
       "            }\n",
       "\n",
       "            $('div.cell.code_cell.rendered.selected').find(\"div.input\").hide();\n",
       "        </script>\n",
       "\n",
       "        <a href=\"javascript:code_toggle_12776086787203986755()\">Toggle show/hide next cell</a>\n",
       "    "
      ],
      "text/plain": [
       "<IPython.core.display.HTML object>"
      ]
     },
     "execution_count": 88,
     "metadata": {},
     "output_type": "execute_result"
    }
   ],
   "source": [
    "hide_toggle(True)"
   ]
  },
  {
   "cell_type": "code",
   "execution_count": 87,
   "metadata": {},
   "outputs": [
    {
     "data": {
      "text/html": [
       "\n",
       "        <iframe\n",
       "            width=\"1200\"\n",
       "            height=\"700\"\n",
       "            src=\"https://www.mentimeter.com/app/presentation/alykk9rsbe7jdnsuqmt48gn72upwvbve/euakbnnievau/embed\"\n",
       "            frameborder=\"0\"\n",
       "            allowfullscreen\n",
       "            \n",
       "        ></iframe>\n",
       "        "
      ],
      "text/plain": [
       "<IPython.lib.display.IFrame at 0x7f1ecbdc8ca0>"
      ]
     },
     "execution_count": 87,
     "metadata": {},
     "output_type": "execute_result"
    }
   ],
   "source": [
    "from IPython.display import IFrame\n",
    "IFrame('https://www.mentimeter.com/app/presentation/alykk9rsbe7jdnsuqmt48gn72upwvbve/euakbnnievau/embed', width=width, height=height)"
   ]
  },
  {
   "cell_type": "markdown",
   "metadata": {
    "@deathbeds/jupyterlab-fonts": {
     "styles": {
      "": {
       "body[data-jp-deck-mode='presenting'] &": {
        "z-index": null,
        "zoom": "249%"
       }
      }
     }
    },
    "slideshow": {
     "slide_type": "slide"
    },
    "tags": []
   },
   "source": [
    "# Motivation"
   ]
  },
  {
   "cell_type": "markdown",
   "metadata": {
    "@deathbeds/jupyterlab-fonts": {
     "styles": {
      "": {
       "body[data-jp-deck-mode='presenting'] &": {
        "zoom": "249%"
       }
      }
     }
    },
    "slideshow": {
     "slide_type": "slide"
    },
    "tags": []
   },
   "source": [
    "# Why does software fail?"
   ]
  },
  {
   "cell_type": "markdown",
   "metadata": {
    "@deathbeds/jupyterlab-fonts": {
     "styles": {
      "": {
       "body[data-jp-deck-mode='presenting'] &": {
        "zoom": "249%"
       }
      }
     }
    },
    "slideshow": {
     "slide_type": "fragment"
    },
    "tags": []
   },
   "source": [
    "- No Man's Sky. High expectations before release"
   ]
  },
  {
   "cell_type": "markdown",
   "metadata": {},
   "source": [
    "![](https://nmswp.azureedge.net/wp-content/uploads/2021/09/planetary-settlements-1-1040w.jpg)"
   ]
  },
  {
   "cell_type": "markdown",
   "metadata": {
    "@deathbeds/jupyterlab-fonts": {
     "styles": {
      "": {
       "body[data-jp-deck-mode='presenting'] &": {
        "zoom": "249%"
       }
      }
     }
    },
    "slideshow": {
     "slide_type": "slide"
    },
    "tags": []
   },
   "source": [
    "- Alexa party host. \n",
    "\n",
    "Police were called to a house in Germany that was expected of throwing a loud all-night party. Turned out Alexa had just decided to host her own rave and was playing music at 3am without her owner’s knowledge.\n"
   ]
  },
  {
   "cell_type": "markdown",
   "metadata": {
    "@deathbeds/jupyterlab-fonts": {
     "styles": {
      "": {
       "body[data-jp-deck-mode='presenting'] &": {
        "zoom": "83%"
       }
      }
     }
    },
    "tags": []
   },
   "source": [
    "![](https://www.telegraph.co.uk/content/dam/news/2017/11/08/TELEMMGLPICT000142023792_trans_NvBQzQNjv4Bqek9vKm18v_rkIPH9w2GMNoGXySPv9M1Jbe0Fc3Bi1Fk.jpeg?imwidth=1280)"
   ]
  },
  {
   "cell_type": "markdown",
   "metadata": {
    "@deathbeds/jupyterlab-fonts": {
     "styles": {
      "": {
       "body[data-jp-deck-mode='presenting'] &": {
        "zoom": "249%"
       }
      }
     }
    },
    "slideshow": {
     "slide_type": "slide"
    },
    "tags": []
   },
   "source": [
    "# Observations about SE"
   ]
  },
  {
   "cell_type": "markdown",
   "metadata": {
    "cell_style": "split"
   },
   "source": [
    "The Mythical Man-Month"
   ]
  },
  {
   "cell_type": "markdown",
   "metadata": {
    "cell_style": "split"
   },
   "source": [
    "![https://upload.wikimedia.org/wikipedia/en/f/fd/Mythical_man-month_%28book_cover%29.jpg](https://upload.wikimedia.org/wikipedia/en/f/fd/Mythical_man-month_%28book_cover%29.jpg)"
   ]
  },
  {
   "cell_type": "markdown",
   "metadata": {
    "@deathbeds/jupyterlab-fonts": {
     "styles": {
      "": {
       "body[data-jp-deck-mode='presenting'] &": {
        "zoom": "249%"
       }
      }
     }
    },
    "slideshow": {
     "slide_type": "slide"
    },
    "tags": []
   },
   "source": [
    "# A few observations about SE"
   ]
  },
  {
   "cell_type": "markdown",
   "metadata": {
    "@deathbeds/jupyterlab-fonts": {
     "styles": {
      "": {
       "body[data-jp-deck-mode='presenting'] &": {
        "zoom": "271%"
       }
      }
     }
    },
    "tags": []
   },
   "source": [
    "- No silver bullet"
   ]
  },
  {
   "cell_type": "markdown",
   "metadata": {
    "@deathbeds/jupyterlab-fonts": {
     "styles": {
      "": {
       "body[data-jp-deck-mode='presenting'] &": {
        "z-index": "7",
        "zoom": "264%"
       }
      }
     }
    },
    "tags": []
   },
   "source": [
    "- Conceptual integrity"
   ]
  },
  {
   "cell_type": "markdown",
   "metadata": {},
   "source": [
    "- The surgical team"
   ]
  },
  {
   "cell_type": "markdown",
   "metadata": {
    "@deathbeds/jupyterlab-fonts": {
     "styles": {
      "": {
       "body[data-jp-deck-mode='presenting'] &": {
        "zoom": "100%"
       }
      }
     }
    },
    "tags": []
   },
   "source": [
    "- Lowering software development costs"
   ]
  },
  {
   "cell_type": "markdown",
   "metadata": {
    "slideshow": {
     "slide_type": "slide"
    },
    "tags": []
   },
   "source": [
    "# Software development lifecycle"
   ]
  },
  {
   "cell_type": "markdown",
   "metadata": {},
   "source": [
    "<center><img src=\"https://upload.wikimedia.org/wikipedia/commons/5/51/Waterfall_model.png\" width=\"70%\"></center>"
   ]
  },
  {
   "cell_type": "markdown",
   "metadata": {
    "slideshow": {
     "slide_type": "slide"
    },
    "tags": []
   },
   "source": [
    "# Modern software development lifecycle"
   ]
  },
  {
   "cell_type": "markdown",
   "metadata": {},
   "source": [
    "<center><img src=\"https://pimages.toolbox.com/wp-content/uploads/2021/08/26123909/DevOps-Lifecycle.png\" width=\"70%\"></center>\n"
   ]
  },
  {
   "cell_type": "markdown",
   "metadata": {
    "slideshow": {
     "slide_type": "slide"
    }
   },
   "source": [
    "# Machine learning engineering lifecycle"
   ]
  },
  {
   "cell_type": "markdown",
   "metadata": {},
   "source": [
    "<center><img src=\"https://ml-ops.org/img/ml-engineering.jpg\" width=\"70%\"></center>"
   ]
  },
  {
   "cell_type": "markdown",
   "metadata": {
    "slideshow": {
     "slide_type": "slide"
    }
   },
   "source": [
    "<h2 class=\"r-fit-text\">Software development as a social activity</h2>"
   ]
  },
  {
   "cell_type": "code",
   "execution_count": 8,
   "metadata": {
    "scrolled": false,
    "slideshow": {
     "slide_type": "skip"
    }
   },
   "outputs": [
    {
     "data": {
      "text/html": [
       "\n",
       "        <script>\n",
       "            function code_toggle_15509254202084752042() {\n",
       "                $('div.cell.code_cell.rendered.selected').next().find('div.input').toggle();\n",
       "            }\n",
       "\n",
       "            $('div.cell.code_cell.rendered.selected').find(\"div.input\").hide();\n",
       "        </script>\n",
       "\n",
       "        <a href=\"javascript:code_toggle_15509254202084752042()\">Toggle show/hide next cell</a>\n",
       "    "
      ],
      "text/plain": [
       "<IPython.core.display.HTML object>"
      ]
     },
     "execution_count": 8,
     "metadata": {},
     "output_type": "execute_result"
    }
   ],
   "source": [
    "hide_toggle(True)"
   ]
  },
  {
   "cell_type": "code",
   "execution_count": 90,
   "metadata": {
    "scrolled": false,
    "slideshow": {
     "slide_type": "slide"
    }
   },
   "outputs": [
    {
     "data": {
      "text/html": [
       "\n",
       "        <iframe\n",
       "            width=\"1200\"\n",
       "            height=\"700\"\n",
       "            src=\"https://www.mentimeter.com/app/presentation/alykk9rsbe7jdnsuqmt48gn72upwvbve/ghzri1jqrosx/embed\"\n",
       "            frameborder=\"0\"\n",
       "            allowfullscreen\n",
       "            \n",
       "        ></iframe>\n",
       "        "
      ],
      "text/plain": [
       "<IPython.lib.display.IFrame at 0x7f1ed60b6ac0>"
      ]
     },
     "execution_count": 90,
     "metadata": {},
     "output_type": "execute_result"
    }
   ],
   "source": [
    "from IPython.display import IFrame\n",
    "IFrame('https://www.mentimeter.com/app/presentation/alykk9rsbe7jdnsuqmt48gn72upwvbve/ghzri1jqrosx/embed', width=width, height=height)"
   ]
  },
  {
   "cell_type": "markdown",
   "metadata": {
    "slideshow": {
     "slide_type": "slide"
    }
   },
   "source": [
    "# Testing in SE/ML"
   ]
  },
  {
   "cell_type": "markdown",
   "metadata": {},
   "source": [
    "<center><img src=\"https://ml-ops.org/img/ml-engineering.jpg\" width=\"50%\"></center>"
   ]
  },
  {
   "cell_type": "markdown",
   "metadata": {
    "slideshow": {
     "slide_type": "slide"
    }
   },
   "source": [
    "# Why testing?"
   ]
  },
  {
   "cell_type": "markdown",
   "metadata": {},
   "source": [
    "Software testing is the process of evaluating and verifying that a software product or application does what it is supposed to do. The benefits of testing include preventing bugs, reducing development costs and improving performance. *From IBM*\n",
    "\n",
    "</br>\n",
    "\n",
    "- Automation/Formalization of the manual testing\n",
    "- Helps to define system requirements \n",
    "- Helps with system design\n",
    "- Helps with code refactoring/regressions"
   ]
  },
  {
   "cell_type": "markdown",
   "metadata": {
    "slideshow": {
     "slide_type": "slide"
    }
   },
   "source": [
    "# Types of tests in SE"
   ]
  },
  {
   "cell_type": "markdown",
   "metadata": {},
   "source": [
    "- **Acceptance testing**: Verifying whether the whole system works as intended.\n",
    "- **Integration testing**: Ensuring that software components or functions operate together.\n",
    "- **Unit testing**: Validating that each software unit performs as expected. A unit is the smallest testable component of an application.\n",
    "- **Functional testing**: Checking functions by emulating business scenarios, based on functional requirements. Black-box testing is a common way to verify functions.\n",
    "- **Performance testing**: Testing how the software performs under different workloads. Load testing, for example, is used to evaluate performance under real-life load conditions.\n",
    "- **Regression testing**: Checking whether new features break or degrade functionality. Sanity testing can be used to verify menus, functions and commands at the surface level, when there is no time for a full regression test.\n",
    "- **Stress testing**: Testing how much strain the system can take before it fails. Considered to be a type of non-functional testing.\n",
    "- **Usability testing**: Validating how well a customer can use a system or web application to complete a task."
   ]
  },
  {
   "cell_type": "markdown",
   "metadata": {
    "slideshow": {
     "slide_type": "slide"
    }
   },
   "source": [
    "# Additional types of tests in ML"
   ]
  },
  {
   "cell_type": "markdown",
   "metadata": {},
   "source": [
    "- **Invariance testing**: Defines input changes that are expected to leave model outputs unaffected.\n",
    "- **Directional expectation testing**: Defines input distribution changes expected effects on the output.\n",
    "- **Minimum functionality testing**: Defines behavior of the individual model components"
   ]
  },
  {
   "cell_type": "markdown",
   "metadata": {
    "slideshow": {
     "slide_type": "slide"
    }
   },
   "source": [
    "# Walkthrough on testing in ML"
   ]
  },
  {
   "cell_type": "markdown",
   "metadata": {
    "slideshow": {
     "slide_type": "slide"
    }
   },
   "source": [
    "## Stage 1. Prototyping"
   ]
  },
  {
   "cell_type": "code",
   "execution_count": 72,
   "metadata": {
    "slideshow": {
     "slide_type": "skip"
    }
   },
   "outputs": [],
   "source": [
    "import pandas as pd\n",
    "import numpy as np\n",
    "from sklearn.model_selection import train_test_split\n",
    "from sklearn.compose import make_column_transformer\n",
    "from sklearn.compose import TransformedTargetRegressor\n",
    "from sklearn.pipeline import make_pipeline, Pipeline\n",
    "from sklearn.preprocessing import OneHotEncoder, StandardScaler\n",
    "from sklearn.svm import LinearSVR\n",
    "from sklearn.metrics import mean_absolute_error\n",
    "from sklearn.metrics import r2_score\n",
    "from sklearn.ensemble import HistGradientBoostingRegressor\n",
    "from sklearn.base import BaseEstimator\n",
    "from typing import Dict\n",
    "from copy import deepcopy\n",
    "\n",
    "import warnings\n",
    "warnings.filterwarnings(\"ignore\")\n",
    "\n",
    "def highlight_cols(x):\n",
    "    #copy df to new - original data are not changed\n",
    "    df = x.copy()\n",
    "    #select all values to default value - red color\n",
    "    df.loc[:,:] = 'background-color: yellow'\n",
    "    #overwrite values grey color\n",
    "    df[['SALE_PRICE']] = 'background-color: magenta'\n",
    "    #return color df\n",
    "    return df    "
   ]
  },
  {
   "cell_type": "markdown",
   "metadata": {
    "slideshow": {
     "slide_type": "slide"
    }
   },
   "source": [
    "## Data"
   ]
  },
  {
   "cell_type": "markdown",
   "metadata": {},
   "source": [
    "<img width=\"500px\" src=\"https://nypost.com/wp-content/uploads/sites/2/2022/07/Manhattan-89.jpg\">"
   ]
  },
  {
   "cell_type": "code",
   "execution_count": 73,
   "metadata": {
    "slideshow": {
     "slide_type": "-"
    }
   },
   "outputs": [],
   "source": [
    "dataset1: pd.DataFrame = pd.read_pickle(\"data/dataset_0.pandas_pickle\")"
   ]
  },
  {
   "cell_type": "code",
   "execution_count": 28,
   "metadata": {
    "slideshow": {
     "slide_type": "skip"
    }
   },
   "outputs": [
    {
     "data": {
      "text/html": [
       "\n",
       "        <script>\n",
       "            function code_toggle_2041696240610271484() {\n",
       "                $('div.cell.code_cell.rendered.selected').next().find('div.input').toggle();\n",
       "            }\n",
       "\n",
       "            $('div.cell.code_cell.rendered.selected').find(\"div.input\").hide();\n",
       "        </script>\n",
       "\n",
       "        <a href=\"javascript:code_toggle_2041696240610271484()\">Toggle show/hide next cell</a>\n",
       "    "
      ],
      "text/plain": [
       "<IPython.core.display.HTML object>"
      ]
     },
     "execution_count": 28,
     "metadata": {},
     "output_type": "execute_result"
    }
   ],
   "source": [
    "hide_toggle(True)"
   ]
  },
  {
   "cell_type": "code",
   "execution_count": 26,
   "metadata": {
    "scrolled": true,
    "slideshow": {
     "slide_type": "-"
    }
   },
   "outputs": [
    {
     "data": {
      "text/html": [
       "<style type=\"text/css\">\n",
       "#T_fbdd3_row0_col0, #T_fbdd3_row0_col1, #T_fbdd3_row0_col2, #T_fbdd3_row0_col3, #T_fbdd3_row0_col4, #T_fbdd3_row0_col5, #T_fbdd3_row0_col6, #T_fbdd3_row0_col7, #T_fbdd3_row0_col8, #T_fbdd3_row0_col9, #T_fbdd3_row1_col0, #T_fbdd3_row1_col1, #T_fbdd3_row1_col2, #T_fbdd3_row1_col3, #T_fbdd3_row1_col4, #T_fbdd3_row1_col5, #T_fbdd3_row1_col6, #T_fbdd3_row1_col7, #T_fbdd3_row1_col8, #T_fbdd3_row1_col9, #T_fbdd3_row2_col0, #T_fbdd3_row2_col1, #T_fbdd3_row2_col2, #T_fbdd3_row2_col3, #T_fbdd3_row2_col4, #T_fbdd3_row2_col5, #T_fbdd3_row2_col6, #T_fbdd3_row2_col7, #T_fbdd3_row2_col8, #T_fbdd3_row2_col9, #T_fbdd3_row3_col0, #T_fbdd3_row3_col1, #T_fbdd3_row3_col2, #T_fbdd3_row3_col3, #T_fbdd3_row3_col4, #T_fbdd3_row3_col5, #T_fbdd3_row3_col6, #T_fbdd3_row3_col7, #T_fbdd3_row3_col8, #T_fbdd3_row3_col9, #T_fbdd3_row4_col0, #T_fbdd3_row4_col1, #T_fbdd3_row4_col2, #T_fbdd3_row4_col3, #T_fbdd3_row4_col4, #T_fbdd3_row4_col5, #T_fbdd3_row4_col6, #T_fbdd3_row4_col7, #T_fbdd3_row4_col8, #T_fbdd3_row4_col9 {\n",
       "  background-color: yellow;\n",
       "}\n",
       "#T_fbdd3_row0_col10, #T_fbdd3_row1_col10, #T_fbdd3_row2_col10, #T_fbdd3_row3_col10, #T_fbdd3_row4_col10 {\n",
       "  background-color: magenta;\n",
       "}\n",
       "</style>\n",
       "<table id=\"T_fbdd3\">\n",
       "  <thead>\n",
       "    <tr>\n",
       "      <th class=\"blank level0\" >&nbsp;</th>\n",
       "      <th id=\"T_fbdd3_level0_col0\" class=\"col_heading level0 col0\" >BUYER_SEX</th>\n",
       "      <th id=\"T_fbdd3_level0_col1\" class=\"col_heading level0 col1\" >BOROUGH</th>\n",
       "      <th id=\"T_fbdd3_level0_col2\" class=\"col_heading level0 col2\" >NEIGHBORHOOD</th>\n",
       "      <th id=\"T_fbdd3_level0_col3\" class=\"col_heading level0 col3\" >ZIP_CODE</th>\n",
       "      <th id=\"T_fbdd3_level0_col4\" class=\"col_heading level0 col4\" >BATHROOM_COUNT</th>\n",
       "      <th id=\"T_fbdd3_level0_col5\" class=\"col_heading level0 col5\" >LAND_SQUARE_FEET</th>\n",
       "      <th id=\"T_fbdd3_level0_col6\" class=\"col_heading level0 col6\" >GROSS_SQUARE_FEET</th>\n",
       "      <th id=\"T_fbdd3_level0_col7\" class=\"col_heading level0 col7\" >YEAR_BUILT</th>\n",
       "      <th id=\"T_fbdd3_level0_col8\" class=\"col_heading level0 col8\" >SALE_DATE_ORD</th>\n",
       "      <th id=\"T_fbdd3_level0_col9\" class=\"col_heading level0 col9\" >BUILDING_CLASS_CATEGORY_ORD</th>\n",
       "      <th id=\"T_fbdd3_level0_col10\" class=\"col_heading level0 col10\" >SALE_PRICE</th>\n",
       "    </tr>\n",
       "  </thead>\n",
       "  <tbody>\n",
       "    <tr>\n",
       "      <th id=\"T_fbdd3_level0_row0\" class=\"row_heading level0 row0\" >0</th>\n",
       "      <td id=\"T_fbdd3_row0_col0\" class=\"data row0 col0\" >M</td>\n",
       "      <td id=\"T_fbdd3_row0_col1\" class=\"data row0 col1\" >4</td>\n",
       "      <td id=\"T_fbdd3_row0_col2\" class=\"data row0 col2\" >SO. JAMAICA-BAISLEY PARK </td>\n",
       "      <td id=\"T_fbdd3_row0_col3\" class=\"data row0 col3\" >11434</td>\n",
       "      <td id=\"T_fbdd3_row0_col4\" class=\"data row0 col4\" >1</td>\n",
       "      <td id=\"T_fbdd3_row0_col5\" class=\"data row0 col5\" >4000.000000</td>\n",
       "      <td id=\"T_fbdd3_row0_col6\" class=\"data row0 col6\" >1128.000000</td>\n",
       "      <td id=\"T_fbdd3_row0_col7\" class=\"data row0 col7\" >1925</td>\n",
       "      <td id=\"T_fbdd3_row0_col8\" class=\"data row0 col8\" >71</td>\n",
       "      <td id=\"T_fbdd3_row0_col9\" class=\"data row0 col9\" >1.000000</td>\n",
       "      <td id=\"T_fbdd3_row0_col10\" class=\"data row0 col10\" >223500</td>\n",
       "    </tr>\n",
       "    <tr>\n",
       "      <th id=\"T_fbdd3_level0_row1\" class=\"row_heading level0 row1\" >1</th>\n",
       "      <td id=\"T_fbdd3_row1_col0\" class=\"data row1 col0\" >M</td>\n",
       "      <td id=\"T_fbdd3_row1_col1\" class=\"data row1 col1\" >3</td>\n",
       "      <td id=\"T_fbdd3_row1_col2\" class=\"data row1 col2\" >BROWNSVILLE              </td>\n",
       "      <td id=\"T_fbdd3_row1_col3\" class=\"data row1 col3\" >11212</td>\n",
       "      <td id=\"T_fbdd3_row1_col4\" class=\"data row1 col4\" >3</td>\n",
       "      <td id=\"T_fbdd3_row1_col5\" class=\"data row1 col5\" >2500.000000</td>\n",
       "      <td id=\"T_fbdd3_row1_col6\" class=\"data row1 col6\" >2272.000000</td>\n",
       "      <td id=\"T_fbdd3_row1_col7\" class=\"data row1 col7\" >1930</td>\n",
       "      <td id=\"T_fbdd3_row1_col8\" class=\"data row1 col8\" >1134</td>\n",
       "      <td id=\"T_fbdd3_row1_col9\" class=\"data row1 col9\" >2.000000</td>\n",
       "      <td id=\"T_fbdd3_row1_col10\" class=\"data row1 col10\" >550000</td>\n",
       "    </tr>\n",
       "    <tr>\n",
       "      <th id=\"T_fbdd3_level0_row2\" class=\"row_heading level0 row2\" >2</th>\n",
       "      <td id=\"T_fbdd3_row2_col0\" class=\"data row2 col0\" >W</td>\n",
       "      <td id=\"T_fbdd3_row2_col1\" class=\"data row2 col1\" >3</td>\n",
       "      <td id=\"T_fbdd3_row2_col2\" class=\"data row2 col2\" >MADISON</td>\n",
       "      <td id=\"T_fbdd3_row2_col3\" class=\"data row2 col3\" >11229</td>\n",
       "      <td id=\"T_fbdd3_row2_col4\" class=\"data row2 col4\" >3</td>\n",
       "      <td id=\"T_fbdd3_row2_col5\" class=\"data row2 col5\" >9350.000000</td>\n",
       "      <td id=\"T_fbdd3_row2_col6\" class=\"data row2 col6\" >1253.000000</td>\n",
       "      <td id=\"T_fbdd3_row2_col7\" class=\"data row2 col7\" >2016</td>\n",
       "      <td id=\"T_fbdd3_row2_col8\" class=\"data row2 col8\" >5138</td>\n",
       "      <td id=\"T_fbdd3_row2_col9\" class=\"data row2 col9\" >13.000000</td>\n",
       "      <td id=\"T_fbdd3_row2_col10\" class=\"data row2 col10\" >896060</td>\n",
       "    </tr>\n",
       "    <tr>\n",
       "      <th id=\"T_fbdd3_level0_row3\" class=\"row_heading level0 row3\" >3</th>\n",
       "      <td id=\"T_fbdd3_row3_col0\" class=\"data row3 col0\" >M</td>\n",
       "      <td id=\"T_fbdd3_row3_col1\" class=\"data row3 col1\" >3</td>\n",
       "      <td id=\"T_fbdd3_row3_col2\" class=\"data row3 col2\" >GRAVESEND                </td>\n",
       "      <td id=\"T_fbdd3_row3_col3\" class=\"data row3 col3\" >11204</td>\n",
       "      <td id=\"T_fbdd3_row3_col4\" class=\"data row3 col4\" >4</td>\n",
       "      <td id=\"T_fbdd3_row3_col5\" class=\"data row3 col5\" >4000.000000</td>\n",
       "      <td id=\"T_fbdd3_row3_col6\" class=\"data row3 col6\" >32667.000000</td>\n",
       "      <td id=\"T_fbdd3_row3_col7\" class=\"data row3 col7\" >2007</td>\n",
       "      <td id=\"T_fbdd3_row3_col8\" class=\"data row3 col8\" >866</td>\n",
       "      <td id=\"T_fbdd3_row3_col9\" class=\"data row3 col9\" >2.000000</td>\n",
       "      <td id=\"T_fbdd3_row3_col10\" class=\"data row3 col10\" >995000</td>\n",
       "    </tr>\n",
       "    <tr>\n",
       "      <th id=\"T_fbdd3_level0_row4\" class=\"row_heading level0 row4\" >4</th>\n",
       "      <td id=\"T_fbdd3_row4_col0\" class=\"data row4 col0\" >W</td>\n",
       "      <td id=\"T_fbdd3_row4_col1\" class=\"data row4 col1\" >4</td>\n",
       "      <td id=\"T_fbdd3_row4_col2\" class=\"data row4 col2\" >ST. ALBANS               </td>\n",
       "      <td id=\"T_fbdd3_row4_col3\" class=\"data row4 col3\" >11412</td>\n",
       "      <td id=\"T_fbdd3_row4_col4\" class=\"data row4 col4\" >1</td>\n",
       "      <td id=\"T_fbdd3_row4_col5\" class=\"data row4 col5\" >3100.000000</td>\n",
       "      <td id=\"T_fbdd3_row4_col6\" class=\"data row4 col6\" >1650.000000</td>\n",
       "      <td id=\"T_fbdd3_row4_col7\" class=\"data row4 col7\" >1925</td>\n",
       "      <td id=\"T_fbdd3_row4_col8\" class=\"data row4 col8\" >965</td>\n",
       "      <td id=\"T_fbdd3_row4_col9\" class=\"data row4 col9\" >2.000000</td>\n",
       "      <td id=\"T_fbdd3_row4_col10\" class=\"data row4 col10\" >275000</td>\n",
       "    </tr>\n",
       "  </tbody>\n",
       "</table>\n"
      ],
      "text/plain": [
       "<pandas.io.formats.style.Styler at 0x7f1ec6985c10>"
      ]
     },
     "execution_count": 26,
     "metadata": {},
     "output_type": "execute_result"
    }
   ],
   "source": [
    "dataset1[['BUYER_SEX', 'BOROUGH', 'NEIGHBORHOOD', 'ZIP_CODE', 'BATHROOM_COUNT', 'LAND_SQUARE_FEET', 'GROSS_SQUARE_FEET', 'YEAR_BUILT', 'SALE_DATE_ORD', 'BUILDING_CLASS_CATEGORY_ORD', 'SALE_PRICE']].head().style.apply(highlight_cols, axis=None)"
   ]
  },
  {
   "cell_type": "markdown",
   "metadata": {
    "slideshow": {
     "slide_type": "slide"
    }
   },
   "source": [
    "## Data preprocessing"
   ]
  },
  {
   "cell_type": "code",
   "execution_count": 74,
   "metadata": {
    "slideshow": {
     "slide_type": "-"
    }
   },
   "outputs": [],
   "source": [
    "X_train, X_val, y_train, y_val = train_test_split(dataset1.drop(columns=[\"SALE_PRICE\"]), dataset1[\"SALE_PRICE\"])\n",
    "\n",
    "ct = make_column_transformer((make_pipeline(StandardScaler()), [\"ZIP_CODE\", \"LAND_SQUARE_FEET\", \"GROSS_SQUARE_FEET\", \"YEAR_BUILT\", \"BATHROOM_COUNT\"]),\n",
    "                             (OneHotEncoder(sparse=False, handle_unknown = \"ignore\"), [\"BOROUGH\", \"NEIGHBORHOOD\", \"BUILDING_CLASS_CATEGORY\", \"SALE_DATE_ORD\", \"BUILDING_CLASS_CATEGORY_ORD\", \"BUYER_SEX\"]), \n",
    "                             verbose_feature_names_out=False)"
   ]
  },
  {
   "cell_type": "markdown",
   "metadata": {
    "slideshow": {
     "slide_type": "slide"
    }
   },
   "source": [
    "## Fitting a regressor"
   ]
  },
  {
   "cell_type": "code",
   "execution_count": 75,
   "metadata": {
    "scrolled": false
   },
   "outputs": [
    {
     "data": {
      "text/plain": [
       "TransformedTargetRegressor(regressor=Pipeline(memory='.cache',\n",
       "                                              steps=[('columntransformer',\n",
       "                                                      ColumnTransformer(transformers=[('pipeline',\n",
       "                                                                                       Pipeline(steps=[('standardscaler',\n",
       "                                                                                                        StandardScaler())]),\n",
       "                                                                                       ['ZIP_CODE',\n",
       "                                                                                        'LAND_SQUARE_FEET',\n",
       "                                                                                        'GROSS_SQUARE_FEET',\n",
       "                                                                                        'YEAR_BUILT',\n",
       "                                                                                        'BATHROOM_COUNT']),\n",
       "                                                                                      ('onehotencoder',\n",
       "                                                                                       OneHotEncoder(handle_unknown='ignore',\n",
       "                                                                                                     sparse=False),\n",
       "                                                                                       ['BOROUGH',\n",
       "                                                                                        'NEIGHBORHOOD',\n",
       "                                                                                        'BUILDING_CLASS_CATEGORY',\n",
       "                                                                                        'SALE_DATE_ORD',\n",
       "                                                                                        'BUILDING_CLASS_CATEGORY_ORD',\n",
       "                                                                                        'BUYER_SEX'])],\n",
       "                                                                        verbose_feature_names_out=False)),\n",
       "                                                     ('linearsvr',\n",
       "                                                      LinearSVR(random_state=42))]),\n",
       "                           transformer=StandardScaler())"
      ]
     },
     "execution_count": 75,
     "metadata": {},
     "output_type": "execute_result"
    }
   ],
   "source": [
    "pipeline: Pipeline = make_pipeline(ct, LinearSVR(random_state=42), memory='.cache', verbose=False)\n",
    "estimator = TransformedTargetRegressor(regressor=pipeline, transformer=StandardScaler())\n",
    "estimator.fit(X_train, y_train)"
   ]
  },
  {
   "cell_type": "markdown",
   "metadata": {
    "slideshow": {
     "slide_type": "slide"
    }
   },
   "source": [
    "## Evaluation of model"
   ]
  },
  {
   "cell_type": "code",
   "execution_count": 32,
   "metadata": {},
   "outputs": [
    {
     "data": {
      "text/plain": [
       "(768889.4962646911, -0.19805324322000994)"
      ]
     },
     "execution_count": 32,
     "metadata": {},
     "output_type": "execute_result"
    }
   ],
   "source": [
    "y_pred = estimator.predict(X_val)\n",
    "mean_absolute_error(y_val, y_pred), r2_score(y_val, y_pred)"
   ]
  },
  {
   "cell_type": "markdown",
   "metadata": {
    "slideshow": {
     "slide_type": "slide"
    }
   },
   "source": [
    "## Let's try another model"
   ]
  },
  {
   "cell_type": "code",
   "execution_count": 36,
   "metadata": {},
   "outputs": [
    {
     "name": "stdout",
     "output_type": "stream",
     "text": [
      "[Pipeline]  (step 2 of 2) Processing histgradientboostingregressor, total= 1.3min\n"
     ]
    },
    {
     "data": {
      "text/plain": [
       "(591753.9979511421, 0.41836059190780905)"
      ]
     },
     "execution_count": 36,
     "metadata": {},
     "output_type": "execute_result"
    }
   ],
   "source": [
    "pipeline: Pipeline = make_pipeline(ct, HistGradientBoostingRegressor(random_state=42), memory='.cache', verbose=True)\n",
    "estimator = TransformedTargetRegressor(regressor=pipeline, transformer=StandardScaler())\n",
    "estimator.fit(X_train, y_train)\n",
    "y_pred = estimator.predict(X_val)\n",
    "mean_absolute_error(y_val, y_pred), r2_score(y_val, y_pred)"
   ]
  },
  {
   "cell_type": "markdown",
   "metadata": {
    "slideshow": {
     "slide_type": "slide"
    }
   },
   "source": [
    "## Stage 2. Refactoring into functions"
   ]
  },
  {
   "cell_type": "markdown",
   "metadata": {
    "slideshow": {
     "slide_type": "slide"
    }
   },
   "source": [
    "## Data"
   ]
  },
  {
   "cell_type": "code",
   "execution_count": 76,
   "metadata": {},
   "outputs": [],
   "source": [
    "def load_data():\n",
    "    data_dict: Dict[int, pd.DataFrame] = dict()\n",
    "    for i in range(4):\n",
    "        data_dict[i] = pd.read_pickle(f\"data/dataset_{i}.pandas_pickle\")\n",
    "    return data_dict"
   ]
  },
  {
   "cell_type": "markdown",
   "metadata": {
    "slideshow": {
     "slide_type": "slide"
    }
   },
   "source": [
    "## Estimator/Regressor"
   ]
  },
  {
   "cell_type": "code",
   "execution_count": 77,
   "metadata": {
    "slideshow": {
     "slide_type": "skip"
    }
   },
   "outputs": [],
   "source": [
    "def get_estimator(regressor_name='linearSVR'):\n",
    "\n",
    "    if regressor_name == 'linearSVR':\n",
    "        regressor = LinearSVR(random_state=42)\n",
    "    elif regressor_name == 'HistGradientBoostingRegressor':\n",
    "        regressor = HistGradientBoostingRegressor(random_state=42)\n",
    "    ct = make_column_transformer((make_pipeline(StandardScaler()), [\"ZIP_CODE\", \"LAND_SQUARE_FEET\", \"GROSS_SQUARE_FEET\", \"YEAR_BUILT\", \"BATHROOM_COUNT\", \"SALE_DATE_ORD\"]),\n",
    "                             (OneHotEncoder(sparse=False, handle_unknown = \"ignore\"), [\"BOROUGH\", \"NEIGHBORHOOD\", \"BUILDING_CLASS_CATEGORY\", \"BUILDING_CLASS_CATEGORY_ORD\", \"BUYER_SEX\"]), \n",
    "                             verbose_feature_names_out=False)\n",
    "\n",
    "    pipeline: Pipeline = make_pipeline(ct, regressor, memory='.cache', verbose=False)\n",
    "    estimator = TransformedTargetRegressor(regressor=pipeline, transformer=StandardScaler())\n",
    "    return estimator"
   ]
  },
  {
   "cell_type": "code",
   "execution_count": null,
   "metadata": {},
   "outputs": [],
   "source": [
    "def get_estimator(regressor_name='linearSVR'):\n",
    "\n",
    "    if regressor_name == 'linearSVR':\n",
    "        regressor = LinearSVR()\n",
    "    elif regressor_name == 'HistGradientBoostingRegressor':\n",
    "        regressor = HistGradientBoostingRegressor()\n",
    "    ct = make_column_transformer((make_pipeline(StandardScaler()), [\"ZIP_CODE\", \"LAND_SQUARE_FEET\", \"GROSS_SQUARE_FEET\", \"YEAR_BUILT\", \"BATHROOM_COUNT\", \"SALE_DATE_ORD\"]),\n",
    "                             (OneHotEncoder(sparse=False, handle_unknown = \"ignore\"), [\"BOROUGH\", \"NEIGHBORHOOD\", \"BUILDING_CLASS_CATEGORY\", \"BUILDING_CLASS_CATEGORY_ORD\", \"BUYER_SEX\"]), \n",
    "                             verbose_feature_names_out=False)\n",
    "\n",
    "    pipeline: Pipeline = make_pipeline(ct, regressor, memory='.cache', verbose=False)\n",
    "    estimator = TransformedTargetRegressor(regressor=pipeline, transformer=StandardScaler())\n",
    "    return estimator"
   ]
  },
  {
   "cell_type": "markdown",
   "metadata": {
    "slideshow": {
     "slide_type": "slide"
    }
   },
   "source": [
    "## The whole pipeline"
   ]
  },
  {
   "cell_type": "code",
   "execution_count": 78,
   "metadata": {
    "slideshow": {
     "slide_type": "skip"
    }
   },
   "outputs": [],
   "source": [
    "def classify(data_dict):\n",
    "    results = []\n",
    "    estimators = dict()\n",
    "    for idx, dataset in data_dict.items():\n",
    "        X_train, X_val, y_train, y_val = train_test_split(dataset.drop(columns=[\"SALE_PRICE\"]), dataset[\"SALE_PRICE\"], random_state=42)\n",
    "        estimators[idx] = dict()\n",
    "        for regressor_name in ['linearSVR', 'HistGradientBoostingRegressor']:\n",
    "            estimator = get_estimator(regressor_name)\n",
    "            estimator.fit(X_train, y_train)\n",
    "\n",
    "            y_pred = estimator.predict(X_val)\n",
    "\n",
    "            estimators[idx][regressor_name] = estimator\n",
    "            \n",
    "            results.append([idx, regressor_name, mean_absolute_error(y_val, y_pred), r2_score(y_val, y_pred)])\n",
    "    return results, estimators"
   ]
  },
  {
   "cell_type": "code",
   "execution_count": 39,
   "metadata": {
    "slideshow": {
     "slide_type": "-"
    }
   },
   "outputs": [],
   "source": [
    "def classify(data_dict):\n",
    "    results = []\n",
    "    estimators = dict()\n",
    "    for idx, dataset in data_dict.items():\n",
    "        X_train, X_val, y_train, y_val = train_test_split(dataset.drop(columns=[\"SALE_PRICE\"]), dataset[\"SALE_PRICE\"])\n",
    "        estimators[idx] = dict()\n",
    "        for regressor_name in ['linearSVR', 'HistGradientBoostingRegressor']:\n",
    "            estimator = get_estimator(regressor_name)\n",
    "            estimator.fit(X_train, y_train)\n",
    "\n",
    "            y_pred = estimator.predict(X_val)\n",
    "\n",
    "            estimators[idx][regressor_name] = estimator\n",
    "            \n",
    "            results.append([idx, regressor_name, mean_absolute_error(y_val, y_pred), r2_score(y_val, y_pred)])\n",
    "    return results, estimators"
   ]
  },
  {
   "cell_type": "markdown",
   "metadata": {
    "slideshow": {
     "slide_type": "slide"
    }
   },
   "source": [
    "## Evaluate results"
   ]
  },
  {
   "cell_type": "code",
   "execution_count": null,
   "metadata": {},
   "outputs": [],
   "source": [
    "data_dict = load_data()\n",
    "results, estimators = classify(data_dict=data_dict)"
   ]
  },
  {
   "cell_type": "code",
   "execution_count": 42,
   "metadata": {},
   "outputs": [
    {
     "data": {
      "text/html": [
       "<div>\n",
       "<style scoped>\n",
       "    .dataframe tbody tr th:only-of-type {\n",
       "        vertical-align: middle;\n",
       "    }\n",
       "\n",
       "    .dataframe tbody tr th {\n",
       "        vertical-align: top;\n",
       "    }\n",
       "\n",
       "    .dataframe thead th {\n",
       "        text-align: right;\n",
       "    }\n",
       "</style>\n",
       "<table border=\"1\" class=\"dataframe\">\n",
       "  <thead>\n",
       "    <tr style=\"text-align: right;\">\n",
       "      <th></th>\n",
       "      <th>Dataset Idx</th>\n",
       "      <th>Regressor</th>\n",
       "      <th>MAE</th>\n",
       "      <th>R2</th>\n",
       "    </tr>\n",
       "  </thead>\n",
       "  <tbody>\n",
       "    <tr>\n",
       "      <th>0</th>\n",
       "      <td>0</td>\n",
       "      <td>linearSVR</td>\n",
       "      <td>826707.600905</td>\n",
       "      <td>0.204332</td>\n",
       "    </tr>\n",
       "    <tr>\n",
       "      <th>1</th>\n",
       "      <td>0</td>\n",
       "      <td>HistGradientBoostingRegressor</td>\n",
       "      <td>602822.336186</td>\n",
       "      <td>0.644838</td>\n",
       "    </tr>\n",
       "    <tr>\n",
       "      <th>2</th>\n",
       "      <td>1</td>\n",
       "      <td>linearSVR</td>\n",
       "      <td>821178.536598</td>\n",
       "      <td>0.264087</td>\n",
       "    </tr>\n",
       "    <tr>\n",
       "      <th>3</th>\n",
       "      <td>1</td>\n",
       "      <td>HistGradientBoostingRegressor</td>\n",
       "      <td>632824.458058</td>\n",
       "      <td>0.589781</td>\n",
       "    </tr>\n",
       "    <tr>\n",
       "      <th>4</th>\n",
       "      <td>2</td>\n",
       "      <td>linearSVR</td>\n",
       "      <td>809373.648820</td>\n",
       "      <td>0.211983</td>\n",
       "    </tr>\n",
       "    <tr>\n",
       "      <th>5</th>\n",
       "      <td>2</td>\n",
       "      <td>HistGradientBoostingRegressor</td>\n",
       "      <td>574875.248383</td>\n",
       "      <td>0.500433</td>\n",
       "    </tr>\n",
       "    <tr>\n",
       "      <th>6</th>\n",
       "      <td>3</td>\n",
       "      <td>linearSVR</td>\n",
       "      <td>872769.508629</td>\n",
       "      <td>0.340836</td>\n",
       "    </tr>\n",
       "    <tr>\n",
       "      <th>7</th>\n",
       "      <td>3</td>\n",
       "      <td>HistGradientBoostingRegressor</td>\n",
       "      <td>655705.125719</td>\n",
       "      <td>0.364833</td>\n",
       "    </tr>\n",
       "  </tbody>\n",
       "</table>\n",
       "</div>"
      ],
      "text/plain": [
       "   Dataset Idx                      Regressor            MAE        R2\n",
       "0            0                      linearSVR  826707.600905  0.204332\n",
       "1            0  HistGradientBoostingRegressor  602822.336186  0.644838\n",
       "2            1                      linearSVR  821178.536598  0.264087\n",
       "3            1  HistGradientBoostingRegressor  632824.458058  0.589781\n",
       "4            2                      linearSVR  809373.648820  0.211983\n",
       "5            2  HistGradientBoostingRegressor  574875.248383  0.500433\n",
       "6            3                      linearSVR  872769.508629  0.340836\n",
       "7            3  HistGradientBoostingRegressor  655705.125719  0.364833"
      ]
     },
     "execution_count": 42,
     "metadata": {},
     "output_type": "execute_result"
    }
   ],
   "source": [
    "df = pd.DataFrame(results, columns=['Dataset Idx', 'Regressor', 'MAE', 'R2'])\n",
    "df"
   ]
  },
  {
   "cell_type": "code",
   "execution_count": 40,
   "metadata": {
    "scrolled": false,
    "slideshow": {
     "slide_type": "skip"
    }
   },
   "outputs": [
    {
     "data": {
      "text/html": [
       "\n",
       "        <script>\n",
       "            function code_toggle_7348147980736367473() {\n",
       "                $('div.cell.code_cell.rendered.selected').next().find('div.input').toggle();\n",
       "            }\n",
       "\n",
       "            $('div.cell.code_cell.rendered.selected').find(\"div.input\").hide();\n",
       "        </script>\n",
       "\n",
       "        <a href=\"javascript:code_toggle_7348147980736367473()\">Toggle show/hide next cell</a>\n",
       "    "
      ],
      "text/plain": [
       "<IPython.core.display.HTML object>"
      ]
     },
     "execution_count": 40,
     "metadata": {},
     "output_type": "execute_result"
    }
   ],
   "source": [
    "hide_toggle(True)"
   ]
  },
  {
   "cell_type": "code",
   "execution_count": 97,
   "metadata": {
    "slideshow": {
     "slide_type": "slide"
    }
   },
   "outputs": [
    {
     "data": {
      "text/html": [
       "\n",
       "        <iframe\n",
       "            width=\"1200\"\n",
       "            height=\"700\"\n",
       "            src=\"https://www.mentimeter.com/app/presentation/alykk9rsbe7jdnsuqmt48gn72upwvbve/puyi6ono1aqd/embed\"\n",
       "            frameborder=\"0\"\n",
       "            allowfullscreen\n",
       "            \n",
       "        ></iframe>\n",
       "        "
      ],
      "text/plain": [
       "<IPython.lib.display.IFrame at 0x7f1ed60b6220>"
      ]
     },
     "execution_count": 97,
     "metadata": {},
     "output_type": "execute_result"
    }
   ],
   "source": [
    "from IPython.display import IFrame\n",
    "IFrame('https://www.mentimeter.com/app/presentation/alykk9rsbe7jdnsuqmt48gn72upwvbve/puyi6ono1aqd/embed', width=width, height=height)"
   ]
  },
  {
   "cell_type": "code",
   "execution_count": null,
   "metadata": {
    "slideshow": {
     "slide_type": "fragment"
    }
   },
   "outputs": [],
   "source": [
    "def get_estimator(regressor_name='linearSVR'):\n",
    "\n",
    "    if regressor_name == 'linearSVR':\n",
    "        regressor = LinearSVR()\n",
    "    elif regressor_name == 'HistGradientBoostingRegressor':\n",
    "        regressor = HistGradientBoostingRegressor()\n",
    "    ct = make_column_transformer((make_pipeline(StandardScaler()), [\"ZIP_CODE\", \"LAND_SQUARE_FEET\", \"GROSS_SQUARE_FEET\", \"YEAR_BUILT\", \"BATHROOM_COUNT\", \"SALE_DATE_ORD\"]),\n",
    "                             (OneHotEncoder(sparse=False, handle_unknown = \"ignore\"), [\"BOROUGH\", \"NEIGHBORHOOD\", \"BUILDING_CLASS_CATEGORY\", \"BUILDING_CLASS_CATEGORY_ORD\", \"BUYER_SEX\"]), \n",
    "                             verbose_feature_names_out=False)\n",
    "\n",
    "    pipeline: Pipeline = make_pipeline(ct, regressor, memory='.cache', verbose=True)\n",
    "    estimator = TransformedTargetRegressor(regressor=pipeline, transformer=StandardScaler())\n",
    "    return estimator"
   ]
  },
  {
   "cell_type": "markdown",
   "metadata": {
    "slideshow": {
     "slide_type": "slide"
    }
   },
   "source": [
    "# Make sure your randomness is fixed!"
   ]
  },
  {
   "cell_type": "code",
   "execution_count": null,
   "metadata": {},
   "outputs": [],
   "source": [
    "import unittest\n",
    "\n",
    "\n",
    "class TestDataRegression(unittest.TestCase):\n",
    "    def setUp(self):\n",
    "        data_dict = load_data()\n",
    "        self.dataset = data_dict[0]\n",
    "\n",
    "        results, estimators = classify(data_dict={0: self.dataset})\n",
    "        \n",
    "        self.results = results\n",
    "        self.estimators = estimators\n",
    "    \n",
    "    def test_results_are_determined(self):\n",
    "        results, _ = classify(data_dict={0: self.dataset})\n",
    "        setup_results_df = pd.DataFrame(self.results, columns=['Dataset Idx', 'Regressor', 'MAE', 'R2'])\n",
    "        test_results_df = pd.DataFrame(results, columns=['Dataset Idx', 'Regressor', 'MAE', 'R2'])\n",
    "        self.assertTrue(np.array_equiv(setup_results_df.values, test_results_df.values))"
   ]
  },
  {
   "cell_type": "markdown",
   "metadata": {
    "slideshow": {
     "slide_type": "slide"
    }
   },
   "source": [
    "Do not forget to call functions with **random_state** specified"
   ]
  },
  {
   "cell_type": "code",
   "execution_count": 59,
   "metadata": {},
   "outputs": [],
   "source": [
    "def get_estimator(regressor_name='linearSVR'):\n",
    "\n",
    "    if regressor_name == 'linearSVR':\n",
    "        regressor = LinearSVR(random_state=42)\n",
    "    elif regressor_name == 'HistGradientBoostingRegressor':\n",
    "        regressor = HistGradientBoostingRegressor(random_state=42)\n",
    "    ct = make_column_transformer((make_pipeline(StandardScaler()), [\"ZIP_CODE\", \"LAND_SQUARE_FEET\", \"GROSS_SQUARE_FEET\", \"YEAR_BUILT\", \"BATHROOM_COUNT\", \"SALE_DATE_ORD\"]),\n",
    "                             (OneHotEncoder(sparse=False, handle_unknown = \"ignore\"), [\"BOROUGH\", \"NEIGHBORHOOD\", \"BUILDING_CLASS_CATEGORY\", \"BUILDING_CLASS_CATEGORY_ORD\", \"BUYER_SEX\"]), \n",
    "                             verbose_feature_names_out=False)\n",
    "\n",
    "    pipeline: Pipeline = make_pipeline(ct, regressor, memory='.cache', verbose=True)\n",
    "    estimator = TransformedTargetRegressor(regressor=pipeline, transformer=StandardScaler())\n",
    "    return estimator\n"
   ]
  },
  {
   "cell_type": "markdown",
   "metadata": {
    "slideshow": {
     "slide_type": "slide"
    }
   },
   "source": [
    "## Invariance testing"
   ]
  },
  {
   "cell_type": "code",
   "execution_count": 43,
   "metadata": {},
   "outputs": [],
   "source": [
    "def test_sex_invariance(self,):\n",
    "    dataset = self.dataset.copy()\n",
    "    dataset[\"BUYER_SEX\"] = 'M'\n",
    "    data_dict = {0: dataset}\n",
    "    results, _ = classify(data_dict=data_dict)\n",
    "    setup_results_df = pd.DataFrame(self.results, columns=['Dataset Idx', 'Regressor', 'MAE', 'R2'])\n",
    "    test_results_df = pd.DataFrame(results, columns=['Dataset Idx', 'Regressor', 'MAE', 'R2'])\n",
    "    self.assertTrue(np.allclose(setup_results_df['R2'].values, test_results_df['R2'].values, atol=1e-2))"
   ]
  },
  {
   "cell_type": "markdown",
   "metadata": {
    "slideshow": {
     "slide_type": "slide"
    }
   },
   "source": [
    "## Direction expectation testing"
   ]
  },
  {
   "cell_type": "code",
   "execution_count": 44,
   "metadata": {},
   "outputs": [],
   "source": [
    "def test_direction_expectation(self):\n",
    "\n",
    "        X_test1 = self.dataset.drop(columns=[\"SALE_PRICE\"]).sample(frac=0.2)\n",
    "        X_test2 = X_test1.copy()\n",
    "\n",
    "        X_test2[\"GROSS_SQUARE_FEET\"] = X_test2[\"GROSS_SQUARE_FEET\"] * 2\n",
    "        X_test2[\"BATHROOM_COUNT\"] = X_test2[\"BATHROOM_COUNT\"] + 5\n",
    "\n",
    "        estimator_names =self.estimators[0].keys()\n",
    "        is_increasing = []\n",
    "        for est in estimator_names:\n",
    "            prices1 = self.estimators[0][est].predict(X_test1)\n",
    "            prices2 = self.estimators[0][est].predict(X_test2)\n",
    "            is_increasing.append(((prices2 - prices1) > 0).all())\n",
    "\n",
    "        self.assertTrue(np.array(is_increasing).all())"
   ]
  },
  {
   "cell_type": "markdown",
   "metadata": {
    "slideshow": {
     "slide_type": "slide"
    }
   },
   "source": [
    "## Test results"
   ]
  },
  {
   "cell_type": "code",
   "execution_count": null,
   "metadata": {},
   "outputs": [],
   "source": [
    "unittest.main(argv=[''], verbosity=2, exit=False)"
   ]
  },
  {
   "cell_type": "code",
   "execution_count": 49,
   "metadata": {
    "slideshow": {
     "slide_type": "skip"
    }
   },
   "outputs": [
    {
     "data": {
      "text/html": [
       "\n",
       "        <script>\n",
       "            function code_toggle_3106336801640571713() {\n",
       "                $('div.cell.code_cell.rendered.selected').next().find('div.input').toggle();\n",
       "            }\n",
       "\n",
       "            $('div.cell.code_cell.rendered.selected').find(\"div.input\").hide();\n",
       "        </script>\n",
       "\n",
       "        <a href=\"javascript:code_toggle_3106336801640571713()\">Toggle show/hide next cell</a>\n",
       "    "
      ],
      "text/plain": [
       "<IPython.core.display.HTML object>"
      ]
     },
     "execution_count": 49,
     "metadata": {},
     "output_type": "execute_result"
    }
   ],
   "source": [
    "hide_toggle(True)"
   ]
  },
  {
   "cell_type": "code",
   "execution_count": 79,
   "metadata": {
    "scrolled": false,
    "slideshow": {
     "slide_type": "-"
    }
   },
   "outputs": [
    {
     "name": "stderr",
     "output_type": "stream",
     "text": [
      "test_direction_expectation (__main__.TestDataRegression) ... /home/rustamzh/anaconda3/envs/demo/lib/python3.8/site-packages/sklearn/svm/_base.py:1206: ConvergenceWarning: Liblinear failed to converge, increase the number of iterations.\n",
      "  warnings.warn(\n",
      "FAIL\n",
      "test_results_are_determined (__main__.TestDataRegression) ... /home/rustamzh/anaconda3/envs/demo/lib/python3.8/site-packages/sklearn/svm/_base.py:1206: ConvergenceWarning: Liblinear failed to converge, increase the number of iterations.\n",
      "  warnings.warn(\n",
      "/home/rustamzh/anaconda3/envs/demo/lib/python3.8/site-packages/sklearn/svm/_base.py:1206: ConvergenceWarning: Liblinear failed to converge, increase the number of iterations.\n",
      "  warnings.warn(\n",
      "ok\n",
      "test_sex_invariance (__main__.TestDataRegression) ... /home/rustamzh/anaconda3/envs/demo/lib/python3.8/site-packages/sklearn/svm/_base.py:1206: ConvergenceWarning: Liblinear failed to converge, increase the number of iterations.\n",
      "  warnings.warn(\n",
      "/home/rustamzh/anaconda3/envs/demo/lib/python3.8/site-packages/sklearn/svm/_base.py:1206: ConvergenceWarning: Liblinear failed to converge, increase the number of iterations.\n",
      "  warnings.warn(\n",
      "ok\n",
      "test_column_transformer_scaler (__main__.TestSimpleDataset) ... ok\n",
      "\n",
      "======================================================================\n",
      "FAIL: test_direction_expectation (__main__.TestDataRegression)\n",
      "----------------------------------------------------------------------\n",
      "Traceback (most recent call last):\n",
      "  File \"/tmp/ipykernel_741/1821046248.py\", line 38, in test_direction_expectation\n",
      "    self.assertTrue(np.array(is_increasing).all())\n",
      "AssertionError: False is not true\n",
      "\n",
      "----------------------------------------------------------------------\n",
      "Ran 4 tests in 171.876s\n",
      "\n",
      "FAILED (failures=1)\n"
     ]
    },
    {
     "data": {
      "text/plain": [
       "<unittest.main.TestProgram at 0x7f1ecadcb970>"
      ]
     },
     "execution_count": 79,
     "metadata": {},
     "output_type": "execute_result"
    }
   ],
   "source": [
    "import unittest\n",
    "\n",
    "\n",
    "class TestDataRegression(unittest.TestCase):\n",
    "    def setUp(self):\n",
    "        data_dict = load_data()\n",
    "        self.dataset = data_dict[0]\n",
    "\n",
    "        results, estimators = classify(data_dict={0: self.dataset})\n",
    "        \n",
    "        self.results = results\n",
    "        self.estimators = estimators\n",
    "    \n",
    "    def test_sex_invariance(self,):\n",
    "        dataset = self.dataset.copy()\n",
    "        dataset[\"BUYER_SEX\"] = 'M'\n",
    "        data_dict = {0: dataset}\n",
    "        results, _ = classify(data_dict=data_dict)\n",
    "        setup_results_df = pd.DataFrame(self.results, columns=['Dataset Idx', 'Regressor', 'MAE', 'R2'])\n",
    "        test_results_df = pd.DataFrame(results, columns=['Dataset Idx', 'Regressor', 'MAE', 'R2'])\n",
    "        self.assertTrue(np.allclose(setup_results_df['R2'].values, test_results_df['R2'].values, atol=1e-2))\n",
    "    \n",
    "    def test_direction_expectation(self):\n",
    "\n",
    "        X_test1 = self.dataset.drop(columns=[\"SALE_PRICE\"]).sample(frac=0.2)\n",
    "        X_test2 = X_test1.copy()\n",
    "\n",
    "        X_test2[\"GROSS_SQUARE_FEET\"] = X_test2[\"GROSS_SQUARE_FEET\"] * 2\n",
    "        X_test2[\"BATHROOM_COUNT\"] = X_test2[\"BATHROOM_COUNT\"] + 5\n",
    "\n",
    "        estimator_names =self.estimators[0].keys()\n",
    "        is_increasing = []\n",
    "        for est in estimator_names:\n",
    "            prices1 = self.estimators[0][est].predict(X_test1)\n",
    "            prices2 = self.estimators[0][est].predict(X_test2)\n",
    "            is_increasing.append(((prices2 - prices1) > 0).all())\n",
    "\n",
    "        self.assertTrue(np.array(is_increasing).all())\n",
    "\n",
    "    def test_results_are_determined(self):\n",
    "        results, _ = classify(data_dict={0: self.dataset})\n",
    "        setup_results_df = pd.DataFrame(self.results, columns=['Dataset Idx', 'Regressor', 'MAE', 'R2'])\n",
    "        test_results_df = pd.DataFrame(results, columns=['Dataset Idx', 'Regressor', 'MAE', 'R2'])\n",
    "        self.assertTrue(np.array_equiv(setup_results_df.values, test_results_df.values))\n",
    "    \n",
    "\n",
    "unittest.main(argv=[''], verbosity=2, exit=False)"
   ]
  },
  {
   "cell_type": "markdown",
   "metadata": {
    "slideshow": {
     "slide_type": "slide"
    }
   },
   "source": [
    "## Stage 3. Refactoring into classes"
   ]
  },
  {
   "cell_type": "markdown",
   "metadata": {
    "slideshow": {
     "slide_type": "slide"
    }
   },
   "source": [
    "## SE principle relevant to testing\n",
    "\n",
    "# High cohesion, low coupling"
   ]
  },
  {
   "cell_type": "markdown",
   "metadata": {
    "slideshow": {
     "slide_type": "slide"
    }
   },
   "source": [
    "## High cohesion, low coupling"
   ]
  },
  {
   "cell_type": "markdown",
   "metadata": {
    "cell_style": "split"
   },
   "source": [
    "### Low coupling\n",
    "\n",
    "Low coupling is about separating unrelated parts of the code base as much as possible."
   ]
  },
  {
   "cell_type": "markdown",
   "metadata": {
    "cell_style": "split",
    "slideshow": {
     "slide_type": "-"
    }
   },
   "source": [
    "### High cohesion\n",
    "\n",
    "High cohesion means keeping parts of a code base that are related to each other in a single place"
   ]
  },
  {
   "cell_type": "markdown",
   "metadata": {},
   "source": [
    "<center><img src=\"https://i.stack.imgur.com/zhZv2.png\" ></center>"
   ]
  },
  {
   "cell_type": "markdown",
   "metadata": {
    "slideshow": {
     "slide_type": "slide"
    }
   },
   "source": [
    "## Stage 3. Refactoring into classes"
   ]
  },
  {
   "cell_type": "markdown",
   "metadata": {
    "slideshow": {
     "slide_type": "slide"
    }
   },
   "source": [
    "## Data ➔ High cohesion"
   ]
  },
  {
   "cell_type": "code",
   "execution_count": 80,
   "metadata": {},
   "outputs": [],
   "source": [
    "class SimpleDataset():\n",
    "\n",
    "    def __init__(self, path=\"\") -> None:\n",
    "        self.dataset = pd.read_pickle(path)\n",
    "    \n",
    "    def prepare(self):\n",
    "        self.X_train, self.X_val, self.y_train, self.y_val = train_test_split(self.dataset.drop(columns=[\"SALE_PRICE\"]), self.dataset[\"SALE_PRICE\"], random_state=42)\n",
    "    \n",
    "    def getColumnTransformer(self):\n",
    "        ct = make_column_transformer((make_pipeline(StandardScaler()), [\"ZIP_CODE\", \"LAND_SQUARE_FEET\", \"GROSS_SQUARE_FEET\", \"YEAR_BUILT\", \"BATHROOM_COUNT\", \"SALE_DATE_ORD\"]),\n",
    "                             (OneHotEncoder(sparse=False, handle_unknown = \"ignore\"), [\"BOROUGH\", \"NEIGHBORHOOD\", \"BUILDING_CLASS_CATEGORY\", \"BUILDING_CLASS_CATEGORY_ORD\", \"BUYER_SEX\"]), \n",
    "                             verbose_feature_names_out=False)\n",
    "        return ct\n",
    "\n",
    "    def getTrainSet(self):\n",
    "        return self.X_train, self.y_train\n",
    "    \n",
    "    def getValSet(self):\n",
    "        return self.X_val, self.y_val"
   ]
  },
  {
   "cell_type": "code",
   "execution_count": 81,
   "metadata": {},
   "outputs": [],
   "source": [
    "def load_data():\n",
    "    data_dict: Dict[int, SimpleDataset] = dict()\n",
    "    for i in range(4):\n",
    "        data_dict[i] = SimpleDataset(path=f\"data/dataset_{i}.pandas_pickle\")\n",
    "    return data_dict"
   ]
  },
  {
   "cell_type": "markdown",
   "metadata": {
    "slideshow": {
     "slide_type": "slide"
    }
   },
   "source": [
    "## Estimator/Regressor"
   ]
  },
  {
   "cell_type": "code",
   "execution_count": 82,
   "metadata": {},
   "outputs": [],
   "source": [
    "def get_regressors() -> Dict[str, BaseEstimator]:\n",
    "    return dict(linearSVR=LinearSVR(random_state=42), HistGradientBoostingRegressor=HistGradientBoostingRegressor(random_state=42))"
   ]
  },
  {
   "cell_type": "markdown",
   "metadata": {
    "slideshow": {
     "slide_type": "slide"
    }
   },
   "source": [
    "## The whole pipeline  ➔ Low coupling"
   ]
  },
  {
   "cell_type": "code",
   "execution_count": 83,
   "metadata": {},
   "outputs": [],
   "source": [
    "def classify(data_dict: Dict[int, SimpleDataset], regressors: Dict[str, BaseEstimator]):\n",
    "    results = []\n",
    "    estimators = dict()\n",
    "    for idx, dataset in data_dict.items():\n",
    "        dataset.prepare()\n",
    "        estimators[idx] = dict()\n",
    "        for regressor_name, regressor in regressors.items():\n",
    "            \n",
    "            pipeline: Pipeline = make_pipeline(dataset.getColumnTransformer(), regressor, memory='.cache', verbose=False)\n",
    "            estimator = TransformedTargetRegressor(regressor=pipeline, transformer=StandardScaler())\n",
    "            \n",
    "            X_train, y_train = dataset.getTrainSet()\n",
    "            estimator.fit(X_train, y_train)\n",
    "\n",
    "            X_val, y_val = dataset.getValSet()\n",
    "\n",
    "            y_pred = estimator.predict(X_val)\n",
    "\n",
    "            estimators[idx][regressor_name] = estimator\n",
    "            \n",
    "            results.append([idx, regressor_name, mean_absolute_error(y_val, y_pred), r2_score(y_val, y_pred)])\n",
    "    return results, estimators"
   ]
  },
  {
   "cell_type": "code",
   "execution_count": null,
   "metadata": {},
   "outputs": [],
   "source": [
    "data_dict = load_data()\n",
    "regressors = get_regressors()\n",
    "results, estimators = classify(data_dict=data_dict, regressors=regressors)"
   ]
  },
  {
   "cell_type": "markdown",
   "metadata": {
    "slideshow": {
     "slide_type": "slide"
    }
   },
   "source": [
    "## Test case"
   ]
  },
  {
   "cell_type": "markdown",
   "metadata": {
    "slideshow": {
     "slide_type": "slide"
    }
   },
   "source": [
    "## Low coupling"
   ]
  },
  {
   "cell_type": "code",
   "execution_count": null,
   "metadata": {},
   "outputs": [],
   "source": [
    "import unittest\n",
    "\n",
    "\n",
    "class TestDataRegression(unittest.TestCase):\n",
    "    def setUp(self):\n",
    "        data_dict = load_data()\n",
    "        self.dataset = data_dict[0]\n",
    "\n",
    "        regressors = get_regressors()\n",
    "        results, estimators = classify(data_dict={0: self.dataset}, regressors=regressors)\n",
    "        \n",
    "        self.results = results\n",
    "        self.estimators = estimators\n",
    "        \n",
    "    def test_sex_invariance_linearSVR(self,):\n",
    "        dataset = deepcopy(self.dataset)\n",
    "        dataset.dataset[\"BUYER_SEX\"] = 'M'\n",
    "        data_dict = {0: dataset}\n",
    "        regressors = dict(linearSVR=LinearSVR(random_state=42))\n",
    "        results, _ = classify(data_dict=data_dict, regressors=regressors)\n",
    "        setup_results_df = pd.DataFrame(self.results, columns=['Dataset Idx', 'Regressor', 'MAE', 'R2']).query(f\"Regressor == 'linearSVR'\")\n",
    "        test_results_df = pd.DataFrame(results, columns=['Dataset Idx', 'Regressor', 'MAE', 'R2'])\n",
    "        self.assertTrue(np.allclose(setup_results_df['R2'].values, test_results_df['R2'].values, atol=1e-2))\n",
    "    \n",
    "    def test_sex_invariance_histGradBoost(self,):\n",
    "\n",
    "        dataset = deepcopy(self.dataset)\n",
    "        dataset.dataset[\"BUYER_SEX\"] = 'M'\n",
    "        data_dict = {0: dataset}\n",
    "        regressors = dict(HistGradientBoostingRegressor=HistGradientBoostingRegressor(random_state=42))\n",
    "        results, _ = classify(data_dict=data_dict, regressors=regressors)\n",
    "        setup_results_df = pd.DataFrame(self.results, columns=['Dataset Idx', 'Regressor', 'MAE', 'R2']).query(f\"Regressor == 'HistGradientBoostingRegressor'\")\n",
    "        test_results_df = pd.DataFrame(results, columns=['Dataset Idx', 'Regressor', 'MAE', 'R2'])\n",
    "        self.assertTrue(np.allclose(setup_results_df['R2'].values, test_results_df['R2'].values, atol=1e-2))"
   ]
  },
  {
   "cell_type": "markdown",
   "metadata": {
    "slideshow": {
     "slide_type": "slide"
    }
   },
   "source": [
    "## Test results"
   ]
  },
  {
   "cell_type": "code",
   "execution_count": 63,
   "metadata": {
    "slideshow": {
     "slide_type": "skip"
    }
   },
   "outputs": [
    {
     "data": {
      "text/html": [
       "\n",
       "        <script>\n",
       "            function code_toggle_17990526255312101597() {\n",
       "                $('div.cell.code_cell.rendered.selected').next().find('div.input').toggle();\n",
       "            }\n",
       "\n",
       "            $('div.cell.code_cell.rendered.selected').find(\"div.input\").hide();\n",
       "        </script>\n",
       "\n",
       "        <a href=\"javascript:code_toggle_17990526255312101597()\">Toggle show/hide next cell</a>\n",
       "    "
      ],
      "text/plain": [
       "<IPython.core.display.HTML object>"
      ]
     },
     "execution_count": 63,
     "metadata": {},
     "output_type": "execute_result"
    }
   ],
   "source": [
    "hide_toggle(True)"
   ]
  },
  {
   "cell_type": "code",
   "execution_count": 84,
   "metadata": {},
   "outputs": [
    {
     "name": "stderr",
     "output_type": "stream",
     "text": [
      "test_direction_expectation_histGradBoost (__main__.TestDataRegression) ... /home/rustamzh/anaconda3/envs/demo/lib/python3.8/site-packages/sklearn/svm/_base.py:1206: ConvergenceWarning: Liblinear failed to converge, increase the number of iterations.\n",
      "  warnings.warn(\n",
      "FAIL\n",
      "test_direction_expectation_linearSVR (__main__.TestDataRegression) ... /home/rustamzh/anaconda3/envs/demo/lib/python3.8/site-packages/sklearn/svm/_base.py:1206: ConvergenceWarning: Liblinear failed to converge, increase the number of iterations.\n",
      "  warnings.warn(\n",
      "ok\n",
      "test_results_are_determined (__main__.TestDataRegression) ... /home/rustamzh/anaconda3/envs/demo/lib/python3.8/site-packages/sklearn/svm/_base.py:1206: ConvergenceWarning: Liblinear failed to converge, increase the number of iterations.\n",
      "  warnings.warn(\n",
      "/home/rustamzh/anaconda3/envs/demo/lib/python3.8/site-packages/sklearn/svm/_base.py:1206: ConvergenceWarning: Liblinear failed to converge, increase the number of iterations.\n",
      "  warnings.warn(\n",
      "ok\n",
      "test_sex_invariance_histGradBoost (__main__.TestDataRegression) ... /home/rustamzh/anaconda3/envs/demo/lib/python3.8/site-packages/sklearn/svm/_base.py:1206: ConvergenceWarning: Liblinear failed to converge, increase the number of iterations.\n",
      "  warnings.warn(\n",
      "ok\n",
      "test_sex_invariance_linearSVR (__main__.TestDataRegression) ... /home/rustamzh/anaconda3/envs/demo/lib/python3.8/site-packages/sklearn/svm/_base.py:1206: ConvergenceWarning: Liblinear failed to converge, increase the number of iterations.\n",
      "  warnings.warn(\n",
      "/home/rustamzh/anaconda3/envs/demo/lib/python3.8/site-packages/sklearn/svm/_base.py:1206: ConvergenceWarning: Liblinear failed to converge, increase the number of iterations.\n",
      "  warnings.warn(\n",
      "ok\n",
      "\n",
      "======================================================================\n",
      "FAIL: test_direction_expectation_histGradBoost (__main__.TestDataRegression)\n",
      "----------------------------------------------------------------------\n",
      "Traceback (most recent call last):\n",
      "  File \"/tmp/ipykernel_741/1384773004.py\", line 66, in test_direction_expectation_histGradBoost\n",
      "    self.assertTrue(is_increasing)\n",
      "AssertionError: False is not true\n",
      "\n",
      "----------------------------------------------------------------------\n",
      "Ran 5 tests in 238.779s\n",
      "\n",
      "FAILED (failures=1)\n"
     ]
    },
    {
     "data": {
      "text/plain": [
       "<unittest.main.TestProgram at 0x7f1ec909a970>"
      ]
     },
     "execution_count": 84,
     "metadata": {},
     "output_type": "execute_result"
    }
   ],
   "source": [
    "import unittest\n",
    "\n",
    "\n",
    "class TestDataRegression(unittest.TestCase):\n",
    "    def setUp(self):\n",
    "        data_dict = load_data()\n",
    "        self.dataset = data_dict[0]\n",
    "\n",
    "        regressors = get_regressors()\n",
    "        results, estimators = classify(data_dict={0: self.dataset}, regressors=regressors)\n",
    "        \n",
    "        self.results = results\n",
    "        self.estimators = estimators\n",
    "    \n",
    "    def test_sex_invariance_linearSVR(self,):\n",
    "        dataset = deepcopy(self.dataset)\n",
    "        dataset.dataset[\"BUYER_SEX\"] = 'M'\n",
    "        data_dict = {0: dataset}\n",
    "        regressors = dict(linearSVR=LinearSVR(random_state=42))\n",
    "        results, _ = classify(data_dict=data_dict, regressors=regressors)\n",
    "        setup_results_df = pd.DataFrame(self.results, columns=['Dataset Idx', 'Regressor', 'MAE', 'R2']).query(f\"Regressor == 'linearSVR'\")\n",
    "        test_results_df = pd.DataFrame(results, columns=['Dataset Idx', 'Regressor', 'MAE', 'R2'])\n",
    "        self.assertTrue(np.allclose(setup_results_df['R2'].values, test_results_df['R2'].values, atol=1e-2))\n",
    "    \n",
    "    def test_sex_invariance_histGradBoost(self,):\n",
    "\n",
    "        dataset = deepcopy(self.dataset)\n",
    "        dataset.dataset[\"BUYER_SEX\"] = 'M'\n",
    "        data_dict = {0: dataset}\n",
    "        regressors = dict(HistGradientBoostingRegressor=HistGradientBoostingRegressor(random_state=42))\n",
    "        results, _ = classify(data_dict=data_dict, regressors=regressors)\n",
    "        setup_results_df = pd.DataFrame(self.results, columns=['Dataset Idx', 'Regressor', 'MAE', 'R2']).query(f\"Regressor == 'HistGradientBoostingRegressor'\")\n",
    "        test_results_df = pd.DataFrame(results, columns=['Dataset Idx', 'Regressor', 'MAE', 'R2'])\n",
    "        self.assertTrue(np.allclose(setup_results_df['R2'].values, test_results_df['R2'].values, atol=1e-2))\n",
    "    \n",
    "    def test_direction_expectation_linearSVR(self):\n",
    "\n",
    "        X_test1 = self.dataset.dataset.drop(columns=[\"SALE_PRICE\"]).sample(frac=0.2, random_state=42)\n",
    "        X_test2 = X_test1.copy()\n",
    "\n",
    "        X_test2[\"GROSS_SQUARE_FEET\"] = X_test2[\"GROSS_SQUARE_FEET\"] * 2\n",
    "        X_test2[\"BATHROOM_COUNT\"] = X_test2[\"BATHROOM_COUNT\"] + 5\n",
    "\n",
    "        estimator_name = \"linearSVR\"\n",
    "\n",
    "        prices1 = self.estimators[0][estimator_name].predict(X_test1)\n",
    "        prices2 = self.estimators[0][estimator_name].predict(X_test2)\n",
    "        is_increasing = ((prices2 - prices1) > 0).all()\n",
    "\n",
    "        self.assertTrue(is_increasing)\n",
    "    \n",
    "    def test_direction_expectation_histGradBoost(self):\n",
    "\n",
    "        X_test1 = self.dataset.dataset.drop(columns=[\"SALE_PRICE\"]).sample(frac=0.2, random_state=42)\n",
    "        X_test2 = X_test1.copy()\n",
    "\n",
    "        X_test2[\"GROSS_SQUARE_FEET\"] = X_test2[\"GROSS_SQUARE_FEET\"] * 2\n",
    "        X_test2[\"BATHROOM_COUNT\"] = X_test2[\"BATHROOM_COUNT\"] + 5\n",
    "\n",
    "        estimator_name = \"HistGradientBoostingRegressor\"\n",
    "\n",
    "        prices1 = self.estimators[0][estimator_name].predict(X_test1)\n",
    "        prices2 = self.estimators[0][estimator_name].predict(X_test2)\n",
    "        is_increasing = ((prices2 - prices1) > 0).all()\n",
    "\n",
    "        self.assertTrue(is_increasing)\n",
    "\n",
    "    def test_results_are_determined(self):\n",
    "\n",
    "        regressors = get_regressors()\n",
    "        results, _ = classify(data_dict={0: self.dataset}, regressors=regressors)\n",
    "        \n",
    "        setup_results_df = pd.DataFrame(self.results, columns=['Dataset Idx', 'Regressor', 'MAE', 'R2'])\n",
    "        test_results_df = pd.DataFrame(results, columns=['Dataset Idx', 'Regressor', 'MAE', 'R2'])\n",
    "        self.assertTrue(np.array_equiv(setup_results_df.values, test_results_df.values))\n",
    "\n",
    "unittest.main(defaultTest='TestDataRegression', argv=[''], verbosity=2, exit=False)"
   ]
  },
  {
   "cell_type": "markdown",
   "metadata": {
    "slideshow": {
     "slide_type": "slide"
    }
   },
   "source": [
    "## Unit test"
   ]
  },
  {
   "cell_type": "code",
   "execution_count": 69,
   "metadata": {},
   "outputs": [
    {
     "name": "stderr",
     "output_type": "stream",
     "text": [
      "test_column_transformer_scaler (__main__.TestSimpleDataset) ... ok\n",
      "\n",
      "----------------------------------------------------------------------\n",
      "Ran 1 test in 0.013s\n",
      "\n",
      "OK\n"
     ]
    },
    {
     "data": {
      "text/plain": [
       "<unittest.main.TestProgram at 0x7f1ed3833880>"
      ]
     },
     "execution_count": 69,
     "metadata": {},
     "output_type": "execute_result"
    }
   ],
   "source": [
    "import unittest\n",
    "from pandas.api.types import  is_numeric_dtype\n",
    "\n",
    "class TestSimpleDataset(unittest.TestCase):\n",
    "    def setUp(self):\n",
    "        self.dataset = SimpleDataset(path=f\"data/dataset_0.pandas_pickle\")\n",
    "    \n",
    "    def test_column_transformer_scaler(self):\n",
    "        ct = self.dataset.getColumnTransformer()\n",
    "        std_scaling_columns = ct.transformers[0][-1]\n",
    "        are_numeric_types = [is_numeric_dtype(self.dataset.dataset[column_name]) for column_name in std_scaling_columns]\n",
    "        self.assertTrue(np.array(are_numeric_types).all())\n",
    "\n",
    "\n",
    "\n",
    "unittest.main(defaultTest='TestSimpleDataset', argv=[''], verbosity=2, exit=False)"
   ]
  },
  {
   "cell_type": "markdown",
   "metadata": {
    "slideshow": {
     "slide_type": "slide"
    }
   },
   "source": [
    "## Summary"
   ]
  },
  {
   "cell_type": "markdown",
   "metadata": {},
   "source": [
    "* Motivation\n",
    "* Observations about S/ML engineering\n",
    "* S/ML lifecycle\n",
    "* Testing in SE/ML\n",
    "* Walkthrough on testing in ML"
   ]
  },
  {
   "cell_type": "code",
   "execution_count": 93,
   "metadata": {
    "slideshow": {
     "slide_type": "skip"
    }
   },
   "outputs": [
    {
     "data": {
      "text/html": [
       "\n",
       "        <script>\n",
       "            function code_toggle_8821333268528601609() {\n",
       "                $('div.cell.code_cell.rendered.selected').next().find('div.input').toggle();\n",
       "            }\n",
       "\n",
       "            $('div.cell.code_cell.rendered.selected').find(\"div.input\").hide();\n",
       "        </script>\n",
       "\n",
       "        <a href=\"javascript:code_toggle_8821333268528601609()\">Toggle show/hide next cell</a>\n",
       "    "
      ],
      "text/plain": [
       "<IPython.core.display.HTML object>"
      ]
     },
     "execution_count": 93,
     "metadata": {},
     "output_type": "execute_result"
    }
   ],
   "source": [
    "hide_toggle(True)"
   ]
  },
  {
   "cell_type": "code",
   "execution_count": 96,
   "metadata": {
    "scrolled": false,
    "slideshow": {
     "slide_type": "slide"
    }
   },
   "outputs": [
    {
     "data": {
      "text/html": [
       "\n",
       "        <iframe\n",
       "            width=\"1200\"\n",
       "            height=\"700\"\n",
       "            src=\"https://www.mentimeter.com/app/presentation/alykk9rsbe7jdnsuqmt48gn72upwvbve/9ergb4sppk7b/embed\"\n",
       "            frameborder=\"0\"\n",
       "            allowfullscreen\n",
       "            \n",
       "        ></iframe>\n",
       "        "
      ],
      "text/plain": [
       "<IPython.lib.display.IFrame at 0x7f1ef1ddf250>"
      ]
     },
     "execution_count": 96,
     "metadata": {},
     "output_type": "execute_result"
    }
   ],
   "source": [
    "from IPython.display import IFrame\n",
    "IFrame('https://www.mentimeter.com/app/presentation/alykk9rsbe7jdnsuqmt48gn72upwvbve/9ergb4sppk7b/embed', width=width, height=height)"
   ]
  }
 ],
 "metadata": {
  "celltoolbar": "Slideshow",
  "kernelspec": {
   "display_name": "Python 3 (ipykernel)",
   "language": "python",
   "name": "python3"
  },
  "language_info": {
   "codemirror_mode": {
    "name": "ipython",
    "version": 3
   },
   "file_extension": ".py",
   "mimetype": "text/x-python",
   "name": "python",
   "nbconvert_exporter": "python",
   "pygments_lexer": "ipython3",
   "version": "3.8.13"
  }
 },
 "nbformat": 4,
 "nbformat_minor": 4
}
