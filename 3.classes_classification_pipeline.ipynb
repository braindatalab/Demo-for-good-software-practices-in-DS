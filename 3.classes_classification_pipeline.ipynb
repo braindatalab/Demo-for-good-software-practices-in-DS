{
 "cells": [
  {
   "cell_type": "code",
   "execution_count": 1,
   "metadata": {},
   "outputs": [],
   "source": [
    "import pandas as pd\n",
    "import numpy as np\n",
    "from sklearn.model_selection import train_test_split\n",
    "from sklearn.compose import make_column_transformer\n",
    "from sklearn.compose import TransformedTargetRegressor\n",
    "from sklearn.pipeline import make_pipeline, Pipeline\n",
    "from sklearn.preprocessing import OneHotEncoder, StandardScaler\n",
    "from sklearn.svm import LinearSVR\n",
    "from sklearn.base import BaseEstimator\n",
    "from typing import Dict\n",
    "from sklearn.metrics import mean_absolute_error\n",
    "from sklearn.metrics import r2_score\n",
    "from sklearn.ensemble import HistGradientBoostingRegressor\n",
    "from copy import deepcopy"
   ]
  },
  {
   "cell_type": "code",
   "execution_count": 2,
   "metadata": {},
   "outputs": [],
   "source": [
    "class SimpleDataset():\n",
    "\n",
    "    def __init__(self, path=\"\") -> None:\n",
    "        self.dataset = pd.read_pickle(path)\n",
    "    \n",
    "    def prepare(self):\n",
    "        self.X_train, self.X_val, self.y_train, self.y_val = train_test_split(self.dataset.drop(columns=[\"SALE_PRICE\"]), self.dataset[\"SALE_PRICE\"], random_state=42)\n",
    "    \n",
    "    def getColumnTransformer(self):\n",
    "        ct = make_column_transformer((make_pipeline(StandardScaler()), [\"ZIP_CODE\", \"LAND_SQUARE_FEET\", \"GROSS_SQUARE_FEET\", \"YEAR_BUILT\", \"BATHROOM_COUNT\", \"SALE_DATE_ORD\"]),\n",
    "                             (OneHotEncoder(sparse=False, handle_unknown = \"ignore\"), [\"BOROUGH\", \"NEIGHBORHOOD\", \"BUILDING_CLASS_CATEGORY\", \"BUILDING_CLASS_CATEGORY_ORD\", \"BUYER_SEX\"]), \n",
    "                             verbose_feature_names_out=False)\n",
    "        return ct\n",
    "\n",
    "    def getTrainSet(self):\n",
    "        return self.X_train, self.y_train\n",
    "    \n",
    "    def getValSet(self):\n",
    "        return self.X_val, self.y_val"
   ]
  },
  {
   "cell_type": "code",
   "execution_count": 3,
   "metadata": {},
   "outputs": [],
   "source": [
    "def load_data():\n",
    "    data_dict: Dict[int, SimpleDataset] = dict()\n",
    "    for i in range(4):\n",
    "        data_dict[i] = SimpleDataset(path=f\"data/dataset_{i}.pandas_pickle\")\n",
    "    return data_dict"
   ]
  },
  {
   "cell_type": "code",
   "execution_count": 4,
   "metadata": {},
   "outputs": [],
   "source": [
    "def get_regressors() -> Dict[str, BaseEstimator]:\n",
    "    return dict(linearSVR=LinearSVR(random_state=42), HistGradientBoostingRegressor=HistGradientBoostingRegressor(random_state=42))"
   ]
  },
  {
   "cell_type": "code",
   "execution_count": 5,
   "metadata": {},
   "outputs": [],
   "source": [
    "def classify(data_dict: Dict[int, SimpleDataset], regressors: Dict[str, BaseEstimator]):\n",
    "    results = []\n",
    "    estimators = dict()\n",
    "    for idx, dataset in data_dict.items():\n",
    "        dataset.prepare()\n",
    "        estimators[idx] = dict()\n",
    "        for regressor_name, regressor in regressors.items():\n",
    "            \n",
    "            pipeline: Pipeline = make_pipeline(dataset.getColumnTransformer(), regressor, memory='.cache', verbose=True)\n",
    "            estimator = TransformedTargetRegressor(regressor=pipeline, transformer=StandardScaler())\n",
    "            \n",
    "            X_train, y_train = dataset.getTrainSet()\n",
    "            estimator.fit(X_train, y_train)\n",
    "\n",
    "            X_val, y_val = dataset.getValSet()\n",
    "\n",
    "            y_pred = estimator.predict(X_val)\n",
    "\n",
    "            estimators[idx][regressor_name] = estimator\n",
    "            \n",
    "            results.append([idx, regressor_name, mean_absolute_error(y_val, y_pred), r2_score(y_val, y_pred)])\n",
    "    return results, estimators"
   ]
  },
  {
   "cell_type": "code",
   "execution_count": 6,
   "metadata": {},
   "outputs": [
    {
     "name": "stderr",
     "output_type": "stream",
     "text": [
      "/home/rustamzh/anaconda3/envs/demo/lib/python3.8/site-packages/sklearn/svm/_base.py:1206: ConvergenceWarning: Liblinear failed to converge, increase the number of iterations.\n",
      "  warnings.warn(\n"
     ]
    },
    {
     "name": "stdout",
     "output_type": "stream",
     "text": [
      "[Pipeline] ......... (step 2 of 2) Processing linearsvr, total=  20.4s\n",
      "[Pipeline]  (step 2 of 2) Processing histgradientboostingregressor, total=   5.6s\n"
     ]
    },
    {
     "name": "stderr",
     "output_type": "stream",
     "text": [
      "/home/rustamzh/anaconda3/envs/demo/lib/python3.8/site-packages/sklearn/svm/_base.py:1206: ConvergenceWarning: Liblinear failed to converge, increase the number of iterations.\n",
      "  warnings.warn(\n"
     ]
    },
    {
     "name": "stdout",
     "output_type": "stream",
     "text": [
      "[Pipeline] ......... (step 2 of 2) Processing linearsvr, total=  19.5s\n",
      "[Pipeline]  (step 2 of 2) Processing histgradientboostingregressor, total=   9.5s\n"
     ]
    },
    {
     "name": "stderr",
     "output_type": "stream",
     "text": [
      "/home/rustamzh/anaconda3/envs/demo/lib/python3.8/site-packages/sklearn/svm/_base.py:1206: ConvergenceWarning: Liblinear failed to converge, increase the number of iterations.\n",
      "  warnings.warn(\n"
     ]
    },
    {
     "name": "stdout",
     "output_type": "stream",
     "text": [
      "[Pipeline] ......... (step 2 of 2) Processing linearsvr, total=  19.2s\n",
      "[Pipeline]  (step 2 of 2) Processing histgradientboostingregressor, total=   8.7s\n"
     ]
    },
    {
     "name": "stderr",
     "output_type": "stream",
     "text": [
      "/home/rustamzh/anaconda3/envs/demo/lib/python3.8/site-packages/sklearn/svm/_base.py:1206: ConvergenceWarning: Liblinear failed to converge, increase the number of iterations.\n",
      "  warnings.warn(\n"
     ]
    },
    {
     "name": "stdout",
     "output_type": "stream",
     "text": [
      "[Pipeline] ......... (step 2 of 2) Processing linearsvr, total=  19.3s\n",
      "[Pipeline]  (step 2 of 2) Processing histgradientboostingregressor, total=   5.1s\n"
     ]
    }
   ],
   "source": [
    "data_dict = load_data()\n",
    "regressors = get_regressors()\n",
    "results, estimators = classify(data_dict=data_dict, regressors=regressors)"
   ]
  },
  {
   "cell_type": "code",
   "execution_count": 7,
   "metadata": {},
   "outputs": [
    {
     "data": {
      "text/html": [
       "<div>\n",
       "<style scoped>\n",
       "    .dataframe tbody tr th:only-of-type {\n",
       "        vertical-align: middle;\n",
       "    }\n",
       "\n",
       "    .dataframe tbody tr th {\n",
       "        vertical-align: top;\n",
       "    }\n",
       "\n",
       "    .dataframe thead th {\n",
       "        text-align: right;\n",
       "    }\n",
       "</style>\n",
       "<table border=\"1\" class=\"dataframe\">\n",
       "  <thead>\n",
       "    <tr style=\"text-align: right;\">\n",
       "      <th></th>\n",
       "      <th>Dataset Idx</th>\n",
       "      <th>Regressor</th>\n",
       "      <th>MAE</th>\n",
       "      <th>R2</th>\n",
       "    </tr>\n",
       "  </thead>\n",
       "  <tbody>\n",
       "    <tr>\n",
       "      <th>0</th>\n",
       "      <td>0</td>\n",
       "      <td>linearSVR</td>\n",
       "      <td>826707.600905</td>\n",
       "      <td>0.204332</td>\n",
       "    </tr>\n",
       "    <tr>\n",
       "      <th>1</th>\n",
       "      <td>0</td>\n",
       "      <td>HistGradientBoostingRegressor</td>\n",
       "      <td>602822.336186</td>\n",
       "      <td>0.644838</td>\n",
       "    </tr>\n",
       "    <tr>\n",
       "      <th>2</th>\n",
       "      <td>1</td>\n",
       "      <td>linearSVR</td>\n",
       "      <td>821178.536598</td>\n",
       "      <td>0.264087</td>\n",
       "    </tr>\n",
       "    <tr>\n",
       "      <th>3</th>\n",
       "      <td>1</td>\n",
       "      <td>HistGradientBoostingRegressor</td>\n",
       "      <td>632824.458058</td>\n",
       "      <td>0.589781</td>\n",
       "    </tr>\n",
       "    <tr>\n",
       "      <th>4</th>\n",
       "      <td>2</td>\n",
       "      <td>linearSVR</td>\n",
       "      <td>809373.648820</td>\n",
       "      <td>0.211983</td>\n",
       "    </tr>\n",
       "    <tr>\n",
       "      <th>5</th>\n",
       "      <td>2</td>\n",
       "      <td>HistGradientBoostingRegressor</td>\n",
       "      <td>574875.248383</td>\n",
       "      <td>0.500433</td>\n",
       "    </tr>\n",
       "    <tr>\n",
       "      <th>6</th>\n",
       "      <td>3</td>\n",
       "      <td>linearSVR</td>\n",
       "      <td>872769.508629</td>\n",
       "      <td>0.340836</td>\n",
       "    </tr>\n",
       "    <tr>\n",
       "      <th>7</th>\n",
       "      <td>3</td>\n",
       "      <td>HistGradientBoostingRegressor</td>\n",
       "      <td>655705.125719</td>\n",
       "      <td>0.364833</td>\n",
       "    </tr>\n",
       "  </tbody>\n",
       "</table>\n",
       "</div>"
      ],
      "text/plain": [
       "   Dataset Idx                      Regressor            MAE        R2\n",
       "0            0                      linearSVR  826707.600905  0.204332\n",
       "1            0  HistGradientBoostingRegressor  602822.336186  0.644838\n",
       "2            1                      linearSVR  821178.536598  0.264087\n",
       "3            1  HistGradientBoostingRegressor  632824.458058  0.589781\n",
       "4            2                      linearSVR  809373.648820  0.211983\n",
       "5            2  HistGradientBoostingRegressor  574875.248383  0.500433\n",
       "6            3                      linearSVR  872769.508629  0.340836\n",
       "7            3  HistGradientBoostingRegressor  655705.125719  0.364833"
      ]
     },
     "execution_count": 7,
     "metadata": {},
     "output_type": "execute_result"
    }
   ],
   "source": [
    "df = pd.DataFrame(results, columns=['Dataset Idx', 'Regressor', 'MAE', 'R2'])\n",
    "df"
   ]
  },
  {
   "cell_type": "code",
   "execution_count": 11,
   "metadata": {},
   "outputs": [
    {
     "name": "stderr",
     "output_type": "stream",
     "text": [
      "test_direction_expectation_histGradBoost (__main__.TestDataRegression) ... /home/rustamzh/anaconda3/envs/demo/lib/python3.8/site-packages/sklearn/svm/_base.py:1206: ConvergenceWarning: Liblinear failed to converge, increase the number of iterations.\n",
      "  warnings.warn(\n"
     ]
    },
    {
     "name": "stdout",
     "output_type": "stream",
     "text": [
      "[Pipeline] ......... (step 2 of 2) Processing linearsvr, total=  22.2s\n",
      "[Pipeline]  (step 2 of 2) Processing histgradientboostingregressor, total=   7.6s\n"
     ]
    },
    {
     "name": "stderr",
     "output_type": "stream",
     "text": [
      "FAIL\n",
      "test_direction_expectation_linearSVR (__main__.TestDataRegression) ... /home/rustamzh/anaconda3/envs/demo/lib/python3.8/site-packages/sklearn/svm/_base.py:1206: ConvergenceWarning: Liblinear failed to converge, increase the number of iterations.\n",
      "  warnings.warn(\n"
     ]
    },
    {
     "name": "stdout",
     "output_type": "stream",
     "text": [
      "[Pipeline] ......... (step 2 of 2) Processing linearsvr, total=  25.5s\n",
      "[Pipeline]  (step 2 of 2) Processing histgradientboostingregressor, total=   7.7s\n"
     ]
    },
    {
     "name": "stderr",
     "output_type": "stream",
     "text": [
      "ok\n",
      "test_results_are_determined (__main__.TestDataRegression) ... /home/rustamzh/anaconda3/envs/demo/lib/python3.8/site-packages/sklearn/svm/_base.py:1206: ConvergenceWarning: Liblinear failed to converge, increase the number of iterations.\n",
      "  warnings.warn(\n"
     ]
    },
    {
     "name": "stdout",
     "output_type": "stream",
     "text": [
      "[Pipeline] ......... (step 2 of 2) Processing linearsvr, total=  25.6s\n",
      "[Pipeline]  (step 2 of 2) Processing histgradientboostingregressor, total=   7.5s\n"
     ]
    },
    {
     "name": "stderr",
     "output_type": "stream",
     "text": [
      "/home/rustamzh/anaconda3/envs/demo/lib/python3.8/site-packages/sklearn/svm/_base.py:1206: ConvergenceWarning: Liblinear failed to converge, increase the number of iterations.\n",
      "  warnings.warn(\n"
     ]
    },
    {
     "name": "stdout",
     "output_type": "stream",
     "text": [
      "[Pipeline] ......... (step 2 of 2) Processing linearsvr, total=  23.1s\n",
      "[Pipeline]  (step 2 of 2) Processing histgradientboostingregressor, total=   7.9s\n"
     ]
    },
    {
     "name": "stderr",
     "output_type": "stream",
     "text": [
      "ok\n",
      "test_sex_invariance_histGradBoost (__main__.TestDataRegression) ... /home/rustamzh/anaconda3/envs/demo/lib/python3.8/site-packages/sklearn/svm/_base.py:1206: ConvergenceWarning: Liblinear failed to converge, increase the number of iterations.\n",
      "  warnings.warn(\n"
     ]
    },
    {
     "name": "stdout",
     "output_type": "stream",
     "text": [
      "[Pipeline] ......... (step 2 of 2) Processing linearsvr, total=  26.2s\n",
      "[Pipeline]  (step 2 of 2) Processing histgradientboostingregressor, total=   7.6s\n",
      "[Pipeline]  (step 2 of 2) Processing histgradientboostingregressor, total=   7.9s\n"
     ]
    },
    {
     "name": "stderr",
     "output_type": "stream",
     "text": [
      "ok\n",
      "test_sex_invariance_linearSVR (__main__.TestDataRegression) ... /home/rustamzh/anaconda3/envs/demo/lib/python3.8/site-packages/sklearn/svm/_base.py:1206: ConvergenceWarning: Liblinear failed to converge, increase the number of iterations.\n",
      "  warnings.warn(\n"
     ]
    },
    {
     "name": "stdout",
     "output_type": "stream",
     "text": [
      "[Pipeline] ......... (step 2 of 2) Processing linearsvr, total=  24.4s\n",
      "[Pipeline]  (step 2 of 2) Processing histgradientboostingregressor, total=   7.6s\n"
     ]
    },
    {
     "name": "stderr",
     "output_type": "stream",
     "text": [
      "/home/rustamzh/anaconda3/envs/demo/lib/python3.8/site-packages/sklearn/svm/_base.py:1206: ConvergenceWarning: Liblinear failed to converge, increase the number of iterations.\n",
      "  warnings.warn(\n"
     ]
    },
    {
     "name": "stdout",
     "output_type": "stream",
     "text": [
      "[Pipeline] ......... (step 2 of 2) Processing linearsvr, total=  25.8s\n"
     ]
    },
    {
     "name": "stderr",
     "output_type": "stream",
     "text": [
      "ok\n",
      "\n",
      "======================================================================\n",
      "FAIL: test_direction_expectation_histGradBoost (__main__.TestDataRegression)\n",
      "----------------------------------------------------------------------\n",
      "Traceback (most recent call last):\n",
      "  File \"/tmp/ipykernel_24272/1384773004.py\", line 66, in test_direction_expectation_histGradBoost\n",
      "    self.assertTrue(is_increasing)\n",
      "AssertionError: False is not true\n",
      "\n",
      "----------------------------------------------------------------------\n",
      "Ran 5 tests in 246.242s\n",
      "\n",
      "FAILED (failures=1)\n"
     ]
    },
    {
     "data": {
      "text/plain": [
       "<unittest.main.TestProgram at 0x7fdb9f36d100>"
      ]
     },
     "execution_count": 11,
     "metadata": {},
     "output_type": "execute_result"
    }
   ],
   "source": [
    "import unittest\n",
    "\n",
    "\n",
    "class TestDataRegression(unittest.TestCase):\n",
    "    def setUp(self):\n",
    "        data_dict = load_data()\n",
    "        self.dataset = data_dict[0]\n",
    "\n",
    "        regressors = get_regressors()\n",
    "        results, estimators = classify(data_dict={0: self.dataset}, regressors=regressors)\n",
    "        \n",
    "        self.results = results\n",
    "        self.estimators = estimators\n",
    "    \n",
    "    def test_sex_invariance_linearSVR(self,):\n",
    "        dataset = deepcopy(self.dataset)\n",
    "        dataset.dataset[\"BUYER_SEX\"] = 'M'\n",
    "        data_dict = {0: dataset}\n",
    "        regressors = dict(linearSVR=LinearSVR(random_state=42))\n",
    "        results, _ = classify(data_dict=data_dict, regressors=regressors)\n",
    "        setup_results_df = pd.DataFrame(self.results, columns=['Dataset Idx', 'Regressor', 'MAE', 'R2']).query(f\"Regressor == 'linearSVR'\")\n",
    "        test_results_df = pd.DataFrame(results, columns=['Dataset Idx', 'Regressor', 'MAE', 'R2'])\n",
    "        self.assertTrue(np.allclose(setup_results_df['R2'].values, test_results_df['R2'].values, atol=1e-2))\n",
    "    \n",
    "    def test_sex_invariance_histGradBoost(self,):\n",
    "\n",
    "        dataset = deepcopy(self.dataset)\n",
    "        dataset.dataset[\"BUYER_SEX\"] = 'M'\n",
    "        data_dict = {0: dataset}\n",
    "        regressors = dict(HistGradientBoostingRegressor=HistGradientBoostingRegressor(random_state=42))\n",
    "        results, _ = classify(data_dict=data_dict, regressors=regressors)\n",
    "        setup_results_df = pd.DataFrame(self.results, columns=['Dataset Idx', 'Regressor', 'MAE', 'R2']).query(f\"Regressor == 'HistGradientBoostingRegressor'\")\n",
    "        test_results_df = pd.DataFrame(results, columns=['Dataset Idx', 'Regressor', 'MAE', 'R2'])\n",
    "        self.assertTrue(np.allclose(setup_results_df['R2'].values, test_results_df['R2'].values, atol=1e-2))\n",
    "    \n",
    "    def test_direction_expectation_linearSVR(self):\n",
    "\n",
    "        X_test1 = self.dataset.dataset.drop(columns=[\"SALE_PRICE\"]).sample(frac=0.2, random_state=42)\n",
    "        X_test2 = X_test1.copy()\n",
    "\n",
    "        X_test2[\"GROSS_SQUARE_FEET\"] = X_test2[\"GROSS_SQUARE_FEET\"] * 2\n",
    "        X_test2[\"BATHROOM_COUNT\"] = X_test2[\"BATHROOM_COUNT\"] + 5\n",
    "\n",
    "        estimator_name = \"linearSVR\"\n",
    "\n",
    "        prices1 = self.estimators[0][estimator_name].predict(X_test1)\n",
    "        prices2 = self.estimators[0][estimator_name].predict(X_test2)\n",
    "        is_increasing = ((prices2 - prices1) > 0).all()\n",
    "\n",
    "        self.assertTrue(is_increasing)\n",
    "    \n",
    "    def test_direction_expectation_histGradBoost(self):\n",
    "\n",
    "        X_test1 = self.dataset.dataset.drop(columns=[\"SALE_PRICE\"]).sample(frac=0.2, random_state=42)\n",
    "        X_test2 = X_test1.copy()\n",
    "\n",
    "        X_test2[\"GROSS_SQUARE_FEET\"] = X_test2[\"GROSS_SQUARE_FEET\"] * 2\n",
    "        X_test2[\"BATHROOM_COUNT\"] = X_test2[\"BATHROOM_COUNT\"] + 5\n",
    "\n",
    "        estimator_name = \"HistGradientBoostingRegressor\"\n",
    "\n",
    "        prices1 = self.estimators[0][estimator_name].predict(X_test1)\n",
    "        prices2 = self.estimators[0][estimator_name].predict(X_test2)\n",
    "        is_increasing = ((prices2 - prices1) > 0).all()\n",
    "\n",
    "        self.assertTrue(is_increasing)\n",
    "\n",
    "    def test_results_are_determined(self):\n",
    "\n",
    "        regressors = get_regressors()\n",
    "        results, _ = classify(data_dict={0: self.dataset}, regressors=regressors)\n",
    "        \n",
    "        setup_results_df = pd.DataFrame(self.results, columns=['Dataset Idx', 'Regressor', 'MAE', 'R2'])\n",
    "        test_results_df = pd.DataFrame(results, columns=['Dataset Idx', 'Regressor', 'MAE', 'R2'])\n",
    "        self.assertTrue(np.array_equiv(setup_results_df.values, test_results_df.values))\n",
    "\n",
    "unittest.main(defaultTest='TestDataRegression', argv=[''], verbosity=2, exit=False)"
   ]
  },
  {
   "cell_type": "code",
   "execution_count": 10,
   "metadata": {},
   "outputs": [
    {
     "name": "stderr",
     "output_type": "stream",
     "text": [
      "test_column_transformer_scaler (__main__.TestSimpleDataset) ... ok\n",
      "\n",
      "----------------------------------------------------------------------\n",
      "Ran 1 test in 0.015s\n",
      "\n",
      "OK\n"
     ]
    },
    {
     "data": {
      "text/plain": [
       "<unittest.main.TestProgram at 0x7fdbaacf7eb0>"
      ]
     },
     "execution_count": 10,
     "metadata": {},
     "output_type": "execute_result"
    }
   ],
   "source": [
    "import unittest\n",
    "from pandas.api.types import  is_numeric_dtype\n",
    "\n",
    "class TestSimpleDataset(unittest.TestCase):\n",
    "    def setUp(self):\n",
    "        self.dataset = SimpleDataset(path=f\"data/dataset_0.pandas_pickle\")\n",
    "    \n",
    "    def test_column_transformer_scaler(self):\n",
    "        ct = self.dataset.getColumnTransformer()\n",
    "        std_scaling_columns = ct.transformers[0][-1]\n",
    "        are_numeric_types = [is_numeric_dtype(self.dataset.dataset[column_name]) for column_name in std_scaling_columns]\n",
    "        self.assertTrue(np.array(are_numeric_types).all())\n",
    "\n",
    "\n",
    "\n",
    "unittest.main(defaultTest='TestSimpleDataset', argv=[''], verbosity=2, exit=False)"
   ]
  }
 ],
 "metadata": {
  "kernelspec": {
   "display_name": "Python 3 (ipykernel)",
   "language": "python",
   "name": "python3"
  },
  "language_info": {
   "codemirror_mode": {
    "name": "ipython",
    "version": 3
   },
   "file_extension": ".py",
   "mimetype": "text/x-python",
   "name": "python",
   "nbconvert_exporter": "python",
   "pygments_lexer": "ipython3",
   "version": "3.8.13"
  }
 },
 "nbformat": 4,
 "nbformat_minor": 2
}
