{
 "cells": [
  {
   "cell_type": "code",
   "execution_count": 1,
   "metadata": {},
   "outputs": [],
   "source": [
    "import pandas as pd\n",
    "from sklearn.model_selection import train_test_split\n",
    "from sklearn.compose import make_column_transformer\n",
    "from sklearn.compose import TransformedTargetRegressor\n",
    "from sklearn.pipeline import make_pipeline, Pipeline\n",
    "from sklearn.preprocessing import OneHotEncoder, StandardScaler\n",
    "from sklearn.svm import LinearSVR\n",
    "from sklearn.metrics import mean_absolute_error\n",
    "from sklearn.metrics import r2_score"
   ]
  },
  {
   "cell_type": "code",
   "execution_count": 2,
   "metadata": {},
   "outputs": [],
   "source": [
    "dataset1: pd.DataFrame = pd.read_pickle(\"data/dataset_0.pandas_pickle\")"
   ]
  },
  {
   "cell_type": "code",
   "execution_count": 3,
   "metadata": {},
   "outputs": [],
   "source": [
    "X_train, X_val, y_train, y_val = train_test_split(dataset1.drop(columns=[\"SALE_PRICE\"]), dataset1[\"SALE_PRICE\"])\n"
   ]
  },
  {
   "cell_type": "code",
   "execution_count": 4,
   "metadata": {},
   "outputs": [],
   "source": [
    "ct = make_column_transformer((make_pipeline(StandardScaler()), [\"ZIP_CODE\", \"LAND_SQUARE_FEET\", \"GROSS_SQUARE_FEET\", \"YEAR_BUILT\", \"BATHROOM_COUNT\"]),\n",
    "                             (OneHotEncoder(sparse=False, handle_unknown = \"ignore\"), [\"BOROUGH\", \"NEIGHBORHOOD\", \"BUILDING_CLASS_CATEGORY\", \"SALE_DATE_ORD\", \"BUILDING_CLASS_CATEGORY_ORD\", \"BUYER_SEX\"]), \n",
    "                             verbose_feature_names_out=False)\n",
    "\n",
    "pipeline: Pipeline = make_pipeline(ct, LinearSVR(random_state=42), memory='.cache', verbose=True)\n",
    "estimator = TransformedTargetRegressor(regressor=pipeline, transformer=StandardScaler())"
   ]
  },
  {
   "cell_type": "code",
   "execution_count": 5,
   "metadata": {},
   "outputs": [
    {
     "name": "stdout",
     "output_type": "stream",
     "text": [
      "[Pipeline] . (step 1 of 2) Processing columntransformer, total=   8.9s\n"
     ]
    },
    {
     "name": "stderr",
     "output_type": "stream",
     "text": [
      "/home/rustamzh/anaconda3/envs/demo/lib/python3.8/site-packages/sklearn/pipeline.py:348: UserWarning: Persisting input arguments took 0.87s to run.\n",
      "If this happens often in your code, it can cause performance problems \n",
      "(results will be correct in all cases). \n",
      "The reason for this is probably some large input arguments for a wrapped\n",
      " function (e.g. large strings).\n",
      "THIS IS A JOBLIB ISSUE. If you can, kindly provide the joblib's team with an\n",
      " example so that they can fix the problem.\n",
      "  X, fitted_transformer = fit_transform_one_cached(\n"
     ]
    },
    {
     "name": "stdout",
     "output_type": "stream",
     "text": [
      "[Pipeline] ......... (step 2 of 2) Processing linearsvr, total=  32.8s\n"
     ]
    },
    {
     "name": "stderr",
     "output_type": "stream",
     "text": [
      "/home/rustamzh/anaconda3/envs/demo/lib/python3.8/site-packages/sklearn/svm/_base.py:1206: ConvergenceWarning: Liblinear failed to converge, increase the number of iterations.\n",
      "  warnings.warn(\n"
     ]
    },
    {
     "data": {
      "text/plain": [
       "TransformedTargetRegressor(regressor=Pipeline(memory='.cache',\n",
       "                                              steps=[('columntransformer',\n",
       "                                                      ColumnTransformer(transformers=[('pipeline',\n",
       "                                                                                       Pipeline(steps=[('standardscaler',\n",
       "                                                                                                        StandardScaler())]),\n",
       "                                                                                       ['ZIP_CODE',\n",
       "                                                                                        'LAND_SQUARE_FEET',\n",
       "                                                                                        'GROSS_SQUARE_FEET',\n",
       "                                                                                        'YEAR_BUILT',\n",
       "                                                                                        'BATHROOM_COUNT']),\n",
       "                                                                                      ('onehotencoder',\n",
       "                                                                                       OneHotEncoder(handle_unknown='ignore',\n",
       "                                                                                                     sparse=False),\n",
       "                                                                                       ['BOROUGH',\n",
       "                                                                                        'NEIGHBORHOOD',\n",
       "                                                                                        'BUILDING_CLASS_CATEGORY',\n",
       "                                                                                        'SALE_DATE_ORD',\n",
       "                                                                                        'BUILDING_CLASS_CATEGORY_ORD',\n",
       "                                                                                        'BUYER_SEX'])],\n",
       "                                                                        verbose_feature_names_out=False)),\n",
       "                                                     ('linearsvr',\n",
       "                                                      LinearSVR(random_state=42))],\n",
       "                                              verbose=True),\n",
       "                           transformer=StandardScaler())"
      ]
     },
     "execution_count": 5,
     "metadata": {},
     "output_type": "execute_result"
    }
   ],
   "source": [
    "estimator.fit(X_train, y_train)"
   ]
  },
  {
   "cell_type": "code",
   "execution_count": 6,
   "metadata": {},
   "outputs": [],
   "source": [
    "y_pred = estimator.predict(X_val)"
   ]
  },
  {
   "cell_type": "code",
   "execution_count": 7,
   "metadata": {},
   "outputs": [
    {
     "data": {
      "text/plain": [
       "786982.0614911406"
      ]
     },
     "execution_count": 7,
     "metadata": {},
     "output_type": "execute_result"
    }
   ],
   "source": [
    "mean_absolute_error(y_val, y_pred)"
   ]
  },
  {
   "cell_type": "code",
   "execution_count": 8,
   "metadata": {},
   "outputs": [
    {
     "data": {
      "text/plain": [
       "0.14154496090974222"
      ]
     },
     "execution_count": 8,
     "metadata": {},
     "output_type": "execute_result"
    }
   ],
   "source": [
    "r2_score(y_val, y_pred)"
   ]
  },
  {
   "cell_type": "code",
   "execution_count": 9,
   "metadata": {},
   "outputs": [],
   "source": [
    "from sklearn.ensemble import HistGradientBoostingRegressor"
   ]
  },
  {
   "cell_type": "code",
   "execution_count": 10,
   "metadata": {},
   "outputs": [],
   "source": [
    "ct = make_column_transformer((make_pipeline(StandardScaler()), [\"ZIP_CODE\", \"LAND_SQUARE_FEET\", \"GROSS_SQUARE_FEET\", \"YEAR_BUILT\", \"BATHROOM_COUNT\"]),\n",
    "                             (OneHotEncoder(sparse=False, handle_unknown = \"ignore\"), [\"BOROUGH\", \"NEIGHBORHOOD\", \"BUILDING_CLASS_CATEGORY\", \"SALE_DATE_ORD\", \"BUILDING_CLASS_CATEGORY_ORD\", \"BUYER_SEX\"]), \n",
    "                             verbose_feature_names_out=False)\n",
    "\n",
    "pipeline: Pipeline = make_pipeline(ct, HistGradientBoostingRegressor(random_state=42), memory='.cache', verbose=True)\n",
    "estimator = TransformedTargetRegressor(regressor=pipeline, transformer=StandardScaler())\n"
   ]
  },
  {
   "cell_type": "code",
   "execution_count": 11,
   "metadata": {},
   "outputs": [
    {
     "name": "stdout",
     "output_type": "stream",
     "text": [
      "[Pipeline]  (step 2 of 2) Processing histgradientboostingregressor, total= 2.9min\n"
     ]
    },
    {
     "data": {
      "text/plain": [
       "TransformedTargetRegressor(regressor=Pipeline(memory='.cache',\n",
       "                                              steps=[('columntransformer',\n",
       "                                                      ColumnTransformer(transformers=[('pipeline',\n",
       "                                                                                       Pipeline(steps=[('standardscaler',\n",
       "                                                                                                        StandardScaler())]),\n",
       "                                                                                       ['ZIP_CODE',\n",
       "                                                                                        'LAND_SQUARE_FEET',\n",
       "                                                                                        'GROSS_SQUARE_FEET',\n",
       "                                                                                        'YEAR_BUILT',\n",
       "                                                                                        'BATHROOM_COUNT']),\n",
       "                                                                                      ('onehotencoder',\n",
       "                                                                                       OneHotEncoder(handle_unknown='ignore',\n",
       "                                                                                                     sparse=False),\n",
       "                                                                                       ['BOROUGH',\n",
       "                                                                                        'NEIGHBORHOOD',\n",
       "                                                                                        'BUILDING_CLASS_CATEGORY',\n",
       "                                                                                        'SALE_DATE_ORD',\n",
       "                                                                                        'BUILDING_CLASS_CATEGORY_ORD',\n",
       "                                                                                        'BUYER_SEX'])],\n",
       "                                                                        verbose_feature_names_out=False)),\n",
       "                                                     ('histgradientboostingregressor',\n",
       "                                                      HistGradientBoostingRegressor(random_state=42))],\n",
       "                                              verbose=True),\n",
       "                           transformer=StandardScaler())"
      ]
     },
     "execution_count": 11,
     "metadata": {},
     "output_type": "execute_result"
    }
   ],
   "source": [
    "estimator.fit(X_train, y_train)"
   ]
  },
  {
   "cell_type": "code",
   "execution_count": 12,
   "metadata": {},
   "outputs": [],
   "source": [
    "y_pred = estimator.predict(X_val)"
   ]
  },
  {
   "cell_type": "code",
   "execution_count": 13,
   "metadata": {},
   "outputs": [
    {
     "data": {
      "text/plain": [
       "505467.675028784"
      ]
     },
     "execution_count": 13,
     "metadata": {},
     "output_type": "execute_result"
    }
   ],
   "source": [
    "mean_absolute_error(y_val, y_pred)"
   ]
  },
  {
   "cell_type": "code",
   "execution_count": 14,
   "metadata": {},
   "outputs": [
    {
     "data": {
      "text/plain": [
       "0.6301633903650985"
      ]
     },
     "execution_count": 14,
     "metadata": {},
     "output_type": "execute_result"
    }
   ],
   "source": [
    "r2_score(y_val, y_pred)"
   ]
  },
  {
   "cell_type": "code",
   "execution_count": null,
   "metadata": {},
   "outputs": [],
   "source": []
  }
 ],
 "metadata": {
  "kernelspec": {
   "display_name": "Python 3 (ipykernel)",
   "language": "python",
   "name": "python3"
  },
  "language_info": {
   "codemirror_mode": {
    "name": "ipython",
    "version": 3
   },
   "file_extension": ".py",
   "mimetype": "text/x-python",
   "name": "python",
   "nbconvert_exporter": "python",
   "pygments_lexer": "ipython3",
   "version": "3.8.13"
  }
 },
 "nbformat": 4,
 "nbformat_minor": 2
}
